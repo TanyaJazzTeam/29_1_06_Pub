{
  "cells": [
    {
      "cell_type": "markdown",
      "metadata": {
      },
      "source": [
        "# Les atomes du calcul"
      ]
    },
    {
      "cell_type": "markdown",
      "metadata": {
        "gloss": {
          "power": {
            "text": "See <a href='https://en.wikipedia.org/wiki/Exponentiation'>exponentiation</a>",
            "title": "Power"
          },
          "quantum-mechanics": {
            "text": "Quantum mechanics is a more accurate model of the universe than the one we usually use, you’ll learn more about it on the next page.",
            "title": "Quantum mechanics"
          },
          "string": {
            "text": "In computing, we call sequences of characters \"strings\".",
            "title": "String"
          }
        }
      },
      "source": [
        "## Introduction\n",
        "\n",
        "La programmation d'un ordinateur quantique est maintenant quelque chose que n'importe qui peut faire dans le confort de sa propre maison. Mais que créer ? Qu'est-ce qu'un programme quantique ? En fait, qu'est-ce qu'un ordinateur quantique ?\n",
        "\n",
        "On peut répondre à ces questions en faisant des comparaisons avec les ordinateurs numériques traditionnels. Malheureusement, la plupart des gens ne comprennent pas non plus le fonctionnement des ordinateurs numériques traditionnels. Sur cette page, nous examinerons les principes de base de ces appareils traditionnels, et pour nous aider à passer à l'informatique quantique plus tard, nous le ferons en utilisant les mêmes outils que nous utiliserons avec les ordinateurs quantiques.\n",
        "\n",
        "## Découper les informations en bits\n",
        "\n",
        "La première chose que nous devons savoir est la notion de *bits* . Ceux-ci sont conçus pour être l'alphabet le plus simple du monde. Avec seulement deux symboles, 0 et 1, nous pouvons représenter n'importe quelle information.\n",
        "\n",
        "Un exemple est les nombres. Vous avez probablement l'habitude de représenter un nombre par une [chaîne](gloss:string) de dix chiffres 0, 1, 2, 3, 4, 5, 6, 7, 8 et 9. Dans cette chaîne de chiffres, chaque chiffre représente combien de fois le nombre contient une certaine [puissance](gloss:power) de dix. Par exemple, quand on écrit 213, on veut dire :\n",
        "\n",
        "$$ 200+10+3 $$\n",
        "\n",
        "ou, exprimé d'une manière qui met l'accent sur les puissances de dix\n",
        "\n",
        "$$ (2×10^2)+(1×10^1)+(3×10^0) $$\n",
        "\n",
        "Bien que nous utilisions habituellement ce système basé sur le nombre 10, nous pouvons tout aussi bien en utiliser un basé sur n'importe quel autre nombre. Le système de numération binaire, par exemple, est basé sur le nombre deux. Cela signifie utiliser les deux caractères 0 et 1 pour exprimer des nombres sous forme de multiples de puissances de deux. Par exemple, 213 devient 11010101, puisque :\n",
        "\n",
        "$$ \\begin{aligned} 213 = &amp; \\phantom{+}(1×2^7)+(1×2^6)+(0×2^5)\\ &amp; +(1×2^4)+( 0×2^3)+(1×2^2)\\ &amp; +(0×2^1)+(1×2^0) \\ \\end{aligné} $$\n",
        "\n",
        "En cela, nous exprimons des nombres sous forme de multiples de 2, 4, 8, 16, 32, etc. au lieu de 10, 100, 1000, etc.\n",
        "\n",
        "<!-- ::: q-block.binary -->\n",
        "\n",
        "### Essayez-le\n",
        "\n",
        "```\n",
        "q-binary\n",
        "```\n",
        "\n",
        "<!-- ::: -->\n",
        "\n",
        " \n",
        "\n",
        "Ces chaînes de bits, appelées chaînes binaires, peuvent être utilisées pour représenter plus que de simples nombres. Par exemple, il existe un moyen de représenter n'importe quel texte à l'aide de bits. Pour toute lettre, chiffre ou signe de ponctuation que vous souhaitez utiliser, vous pouvez trouver une chaîne correspondante d'au plus huit bits à l'aide [de ce tableau](https://www.ibm.com/docs/en/aix/7.2?topic=adapters-ascii-decimal-hexadecimal-octal-binary-conversion-table) . Bien que ceux-ci soient assez arbitraires, il s'agit d'une norme largement acceptée. En fait, c'est ce qui a servi à vous transmettre cet article par Internet.\n",
        "\n",
        "C'est ainsi que toutes les informations sont représentées dans les ordinateurs conventionnels. Qu'il s'agisse de chiffres, de lettres, d'images ou de sons, tout existe sous la forme de chaînes binaires.\n",
        "\n",
        "Comme nos ordinateurs numériques standard, les ordinateurs quantiques sont basés sur cette même idée de base. La principale différence est qu'ils utilisent des *qubits,* une extension du bit à [la mécanique quantique](gloss:quantum-mechanics) . Dans le reste de ce manuel, nous explorerons ce que sont les qubits, ce qu'ils peuvent faire et comment ils le font. Dans cette section, cependant, nous ne parlons pas du tout de quantum. Donc, nous utilisons simplement les qubits comme s'ils étaient des bits.\n",
        "\n",
        "<!-- ::: q-block.exercise -->\n",
        "\n",
        "### Questionnaire rapide\n",
        "\n",
        "<!-- ::: q-quiz(goal=\"intro-aoc-1\") -->\n",
        "\n",
        "<!-- ::: .question -->\n",
        "\n",
        "Si vous avez $n$ bits, combien de nombres différents pourriez-vous écrire ?\n",
        "\n",
        "<!-- ::: -->\n",
        "\n",
        "<!-- ::: .option -->\n",
        "\n",
        "1. $n$\n",
        "\n",
        "<!-- ::: -->\n",
        "\n",
        "<!-- ::: .option -->\n",
        "\n",
        "1. $n^2$\n",
        "\n",
        "<!-- ::: -->\n",
        "\n",
        "<!-- ::: .option(correct) -->\n",
        "\n",
        "1. $2^n$\n",
        "\n",
        "<!-- ::: -->\n",
        "\n",
        "<!-- ::: -->\n",
        "\n",
        "<!-- ::: -->"
      ]
    },
    {
      "cell_type": "markdown",
      "metadata": {
      },
      "source": [
        "## Schémas de circuits\n",
        "\n",
        "Nous avons vu dans la dernière page qu'un calcul prend des données d'entrée et effectue des opérations dessus pour produire des données de sortie. Avec les ordinateurs quantiques dont nous parlerons dans ce manuel, ces données seront toujours sous forme de bits. Maintenant que nous savons ce que sont les bits, voyons comment nous pouvons les manipuler afin de transformer les entrées que nous avons en sorties dont nous avons besoin.\n",
        "\n",
        "Il est souvent utile de représenter ce processus dans un schéma appelé schéma de *circuit* . Ces diagrammes ont des entrées à gauche, des sorties à droite et des opérations représentées par des symboles mystérieux entre les deux. Ces opérations sont appelées « portes », principalement pour des raisons historiques. Voici un exemple de ce à quoi ressemble un circuit pour les ordinateurs standard basés sur des bits. On ne s'attend pas à ce que vous compreniez ce qu'il fait. Cela devrait simplement vous donner une idée de ce à quoi ressemblent ces circuits.\n",
        "\n",
        "![exemple de schéma de circuit classique](images/aoc/logic_gates.png)\n",
        "\n",
        "Pour les ordinateurs quantiques, nous utilisons la même idée de base mais avons des conventions différentes sur la façon de représenter les entrées, les sorties et les symboles utilisés pour les opérations. Voici le \"circuit quantique\" qui représente le même processus que ci-dessus.\n",
        "\n",
        "![exemple de schéma de circuit quantique](images/aoc/quantum_circuit.png)\n",
        "\n",
        "Dans la suite de cette section, nous expliquerons comment construire des circuits quantiques. À la fin, vous saurez comment créer le circuit ci-dessus, ce qu'il fait et pourquoi il est utile."
      ]
    },
    {
      "cell_type": "markdown",
      "metadata": {
        "gloss": {
          "python": {
            "text": "Python is a programming language. We can use it to write instructions and algorithms for computers to follow. <a href='https://www.python.org/'>Read more</a>.",
            "title": "Python"
          }
        }
      },
      "source": [
        "## Créer des circuits avec Qiskit\n",
        "\n",
        "Pour créer un circuit quantique, nous allons importer la classe <code>QuantumCircuit</code> et créer un nouvel objet <code>QuantumCircuit</code> .\n",
        "\n",
        "<!-- ::: q-block.reminder -->\n",
        "\n",
        "### Rappel\n",
        "\n",
        "<summary>Les bases de Python (qu'est-ce que tout cela à propos des classes et des objets ?)</summary>\n",
        "\n",
        "Nous savons que nous pouvons décrire toutes les informations en utilisant un tas de bits, c'est ainsi que les ordinateurs stockent et traitent tout, y compris les circuits quantiques ! Mais il est difficile pour nous, humains, de réfléchir à la manière dont nous procédons et à la manière dont nous manipulons ces bits pour représenter les circuits que nous voulons.\n",
        "\n",
        "La classe <code>QuantumCircuit</code> est un ensemble d'instructions pour représenter les circuits quantiques sous forme de bits. La ligne <code>qc = QuantumCircuit(4, 2)</code> dans la cellule ci-dessous est un constructeur, qui indique à Python de mettre de côté certains bits dans votre ordinateur que nous utiliserons pour représenter un circuit quantique. Lorsque nous voulons nous référer à ce circuit quantique (ou plutôt, aux bits qui représentent ce circuit quantique) nous utiliserons la variable ' <code>qc</code> '. Nous disons que ' <code>qc</code> ' fait référence à un \"objet <code>QuantumCircuit</code> \".\n",
        "\n",
        "Cela nous permet, à nous les humains, de penser aux circuits quantiques à un niveau élevé et abstrait ; nous pouvons dire des choses comme \"ajouter une porte X\" et Qiskit s'occupera de ce que nous devons faire aux bits de notre ordinateur pour refléter ce changement.\n",
        "\n",
        "\n",
        "\n",
        "\n",
        "<!-- ::: -->\n",
        "\n",
        "Lors de la création d'un circuit quantique, nous devons dire à [Python](gloss:python) combien de qubits notre circuit doit avoir, et nous pouvons éventuellement lui dire aussi combien de bits classiques notre circuit doit avoir. Nous avons besoin de bits classiques pour stocker les mesures de nos qubits, la raison de cela deviendra claire plus tard dans ce cours.\n",
        "\n",
        "## Votre premier circuit quantique\n",
        "\n",
        "Dans un circuit, nous devons généralement effectuer trois tâches : d'abord, coder l'entrée, puis effectuer un calcul réel et enfin extraire une sortie. Pour votre premier circuit quantique, nous nous concentrerons sur le dernier de ces travaux. Nous commençons par créer un circuit quantique avec 3 qubits et 3 sorties."
      ]
    },
    {
      "cell_type": "code",
      "execution_count": 1,
      "metadata": {
      },
      "outputs": [
        {
          "data": {
            "image/svg+xml": [
              "<?xml version=\"1.0\" encoding=\"UTF-8\"?><!DOCTYPE svg  PUBLIC '-//W3C//DTD SVG 1.1//EN'  'http://www.w3.org/Graphics/SVG/1.1/DTD/svg11.dtd'><svg width=\"102.51pt\" height=\"214.38pt\" version=\"1.1\" viewBox=\"0 0 102.51 214.38\" xmlns=\"http://www.w3.org/2000/svg\" xmlns:xlink=\"http://www.w3.org/1999/xlink\"><defs><style type=\"text/css\">*{stroke-linecap:butt;stroke-linejoin:round;}</style></defs><path d=\"m0 214.38h102.51v-214.38h-102.51z\" fill=\"#ffffff\"/><path d=\"m63.491 43.561h27.271\" clip-path=\"url(#pf38a690a76)\" fill=\"none\" stroke=\"#000000\" stroke-linecap=\"square\" stroke-width=\"2\"/><path d=\"m63.491 89.012h27.271\" clip-path=\"url(#pf38a690a76)\" fill=\"none\" stroke=\"#000000\" stroke-linecap=\"square\" stroke-width=\"2\"/><path d=\"m63.491 134.46h27.271\" clip-path=\"url(#pf38a690a76)\" fill=\"none\" stroke=\"#000000\" stroke-linecap=\"square\" stroke-width=\"2\"/><path d=\"m63.491 178.44h27.271\" clip-path=\"url(#pf38a690a76)\" fill=\"none\" stroke=\"#778899\" stroke-linecap=\"square\" stroke-width=\"2\"/><path d=\"m63.491 181.39h27.271\" clip-path=\"url(#pf38a690a76)\" fill=\"none\" stroke=\"#778899\" stroke-linecap=\"square\" stroke-width=\"2\"/><path d=\"m72.581 184.46 4.5451-9.0902\" clip-path=\"url(#pf38a690a76)\" fill=\"none\" stroke=\"#778899\" stroke-linecap=\"square\" stroke-width=\"1.5\"/><g clip-path=\"url(#pf38a690a76)\"><g transform=\"translate(36.363 48.012) scale(.1625 -.1625)\"><defs><path id=\"DejaVuSans-Oblique-71\" transform=\"scale(.015625)\" d=\"m2669 525q-231-303-546-460-314-156-695-156-531 0-833 358-301 358-301 986 0 506 186 978t533 847q225 244 517 375t614 131q387 0 637-153t363-462l100 525h578l-934-4813h-579l360 1844zm-1778 813q0-463 193-705 194-242 560-242 544 0 928 520t384 1264q0 450-199 689-198 239-569 239-272 0-504-127-231-126-403-370-181-256-286-600-104-343-104-668z\"/><path id=\"DejaVuSans-30\" transform=\"scale(.015625)\" d=\"m2034 4250q-487 0-733-480-245-479-245-1442 0-959 245-1439 246-480 733-480 491 0 736 480 246 480 246 1439 0 963-246 1442-245 480-736 480zm0 500q785 0 1199-621 414-620 414-1801 0-1178-414-1799-414-620-1199-620-784 0-1198 620-414 621-414 1799 0 1181 414 1801 414 621 1198 621z\"/></defs><use xlink:href=\"#DejaVuSans-Oblique-71\"/><use transform=\"translate(63.477 -16.406) scale(.7)\" xlink:href=\"#DejaVuSans-30\"/></g></g><g clip-path=\"url(#pf38a690a76)\"><g transform=\"translate(36.363 93.463) scale(.1625 -.1625)\"><defs><path id=\"DejaVuSans-31\" transform=\"scale(.015625)\" d=\"m794 531h1031v3560l-1122-225v575l1116 225h631v-4135h1031v-531h-2687v531z\"/></defs><use xlink:href=\"#DejaVuSans-Oblique-71\"/><use transform=\"translate(63.477 -16.406) scale(.7)\" xlink:href=\"#DejaVuSans-31\"/></g></g><g clip-path=\"url(#pf38a690a76)\"><g transform=\"translate(36.363 138.91) scale(.1625 -.1625)\"><defs><path id=\"DejaVuSans-32\" transform=\"scale(.015625)\" d=\"m1228 531h2203v-531h-2962v531q359 372 979 998 621 627 780 809 303 340 423 576 121 236 121 464 0 372-261 606-261 235-680 235-297 0-627-103-329-103-704-313v638q381 153 712 231 332 78 607 78 725 0 1156-363 431-362 431-968 0-288-108-546-107-257-392-607-78-91-497-524-418-433-1181-1211z\"/></defs><use xlink:href=\"#DejaVuSans-Oblique-71\"/><use transform=\"translate(63.477 -16.406) scale(.7)\" xlink:href=\"#DejaVuSans-32\"/></g></g><g clip-path=\"url(#pf38a690a76)\"><g transform=\"translate(68.036 173.21) scale(.104 -.104)\"><defs><path id=\"DejaVuSans-33\" transform=\"scale(.015625)\" d=\"m2597 2516q453-97 707-404 255-306 255-756 0-690-475-1069-475-378-1350-378-293 0-604 58t-642 174v609q262-153 574-231 313-78 654-78 593 0 904 234t311 681q0 413-289 645-289 233-804 233h-544v519h569q465 0 712 186t247 536q0 359-255 551-254 193-729 193-260 0-557-57-297-56-653-174v562q360 100 674 150t592 50q719 0 1137-327 419-326 419-882 0-388-222-655t-631-370z\"/></defs><use xlink:href=\"#DejaVuSans-33\"/></g></g><g clip-path=\"url(#pf38a690a76)\"><g transform=\"translate(45.466 184.4) scale(.1625 -.1625)\"><defs><path id=\"DejaVuSans-63\" transform=\"scale(.015625)\" d=\"m3122 3366v-538q-244 135-489 202t-495 67q-560 0-870-355-309-354-309-995t309-996q310-354 870-354 250 0 495 67t489 202v-532q-241-112-499-168-257-57-548-57-791 0-1257 497-465 497-465 1341 0 856 470 1346 471 491 1290 491 265 0 518-55 253-54 491-163z\"/></defs><use xlink:href=\"#DejaVuSans-63\"/></g></g><defs><clipPath id=\"pf38a690a76\"><rect x=\"7.2\" y=\"7.2\" width=\"88.107\" height=\"199.98\"/></clipPath></defs></svg>"
            ],
            "text/plain": [
              "<Figure size 116.697x264.88 with 1 Axes>"
            ]
          },
          "execution_count": 1,
          "metadata": {
          },
          "output_type": "execute_result"
        }
      ],
      "source": [
        "from qiskit import QuantumCircuit\n",
        "# Create quantum circuit with 3 qubits and 3 classical bits\n",
        "# (we'll explain why we need the classical bits later)\n",
        "qc = QuantumCircuit(3, 3)\n",
        "qc.draw()  # returns a drawing of the circuit"
      ]
    },
    {
      "cell_type": "markdown",
      "metadata": {
        "gloss": {
          "return": {
            "text": "Return is another word for 'output'. In Python, we can use returned data as input to another function or process.",
            "title": "Return"
          }
        }
      },
      "source": [
        "Enfin la méthode <code>qc.draw()</code> crée pour nous un dessin du circuit. Les notebooks Jupyter évaluent la dernière ligne d'une cellule de code et l'affichent sous la cellule. Puisque <code>qc.draw()</code> [renvoie](gloss:return) un dessin, c'est ce que nous voyons sous le code. Il n'y a pas encore de portes dans notre circuit, nous ne voyons donc que quelques lignes horizontales.\n",
        "\n",
        "<!-- ::: q-block.reminder -->\n",
        "\n",
        "### Rappel\n",
        "\n",
        "\n",
        "<summary>Les bases de Python (qu'est-ce qu'une méthode ?)</summary> La classe <code>QuantumCircuit</code> est un ensemble d'instructions pour représenter les circuits quantiques sous forme de bits, mais lorsque nous voulons modifier l'un de ces circuits, nous devons également savoir comment modifier les bits en conséquence. Dans [Python](gloss:python), les objets sont accompagnés de \"méthodes\", qui sont des ensembles d'instructions permettant de faire quelque chose avec cet objet. Dans la cellule ci-dessus, la méthode <code>.draw()</code> examine le circuit que nous avons créé et produit un dessin lisible par l'homme de ce circuit.\n",
        "\n",
        "\n",
        "\n",
        "\n",
        "<!-- ::: -->\n",
        "\n",
        "Ensuite, nous avons besoin d'un moyen de dire à notre ordinateur quantique de mesurer nos qubits et d'enregistrer les résultats. Pour ce faire, nous ajoutons une opération de \"mesure\" à notre circuit quantique. Nous pouvons le faire avec la `QuantumCircuit` `.measure()` de QuantumCircuit ."
      ]
    },
    {
      "cell_type": "code",
      "execution_count": 2,
      "metadata": {
      },
      "outputs": [
        {
          "data": {
            "image/svg+xml": [
              "<?xml version=\"1.0\" encoding=\"UTF-8\"?><!DOCTYPE svg  PUBLIC '-//W3C//DTD SVG 1.1//EN'  'http://www.w3.org/Graphics/SVG/1.1/DTD/svg11.dtd'><svg width=\"216.13pt\" height=\"214.38pt\" version=\"1.1\" viewBox=\"0 0 216.13 214.38\" xmlns=\"http://www.w3.org/2000/svg\" xmlns:xlink=\"http://www.w3.org/1999/xlink\"><defs><style type=\"text/css\">*{stroke-linecap:butt;stroke-linejoin:round;}</style></defs><path d=\"m0 214.38h216.13v-214.38h-216.13z\" fill=\"#ffffff\"/><path d=\"m82.126 169.57h11.817l-5.9086 8.5221z\" clip-path=\"url(#p87aeb7f2e4)\" fill=\"#778899\"/><path d=\"m127.58 169.57h11.817l-5.9086 8.5221z\" clip-path=\"url(#p87aeb7f2e4)\" fill=\"#778899\"/><path d=\"m173.03 169.57h11.817l-5.9086 8.5221z\" clip-path=\"url(#p87aeb7f2e4)\" fill=\"#778899\"/><path d=\"m63.491 43.561h140.9\" clip-path=\"url(#p87aeb7f2e4)\" fill=\"none\" stroke=\"#000000\" stroke-linecap=\"square\" stroke-width=\"2\"/><path d=\"m63.491 89.012h140.9\" clip-path=\"url(#p87aeb7f2e4)\" fill=\"none\" stroke=\"#000000\" stroke-linecap=\"square\" stroke-width=\"2\"/><path d=\"m63.491 134.46h140.9\" clip-path=\"url(#p87aeb7f2e4)\" fill=\"none\" stroke=\"#000000\" stroke-linecap=\"square\" stroke-width=\"2\"/><path d=\"m63.491 178.44h140.9\" clip-path=\"url(#p87aeb7f2e4)\" fill=\"none\" stroke=\"#778899\" stroke-linecap=\"square\" stroke-width=\"2\"/><path d=\"m63.491 181.39h140.9\" clip-path=\"url(#p87aeb7f2e4)\" fill=\"none\" stroke=\"#778899\" stroke-linecap=\"square\" stroke-width=\"2\"/><path d=\"m72.581 184.46 4.5451-9.0902\" clip-path=\"url(#p87aeb7f2e4)\" fill=\"none\" stroke=\"#778899\" stroke-linecap=\"square\" stroke-width=\"1.5\"/><path d=\"m89.512 43.561v126.01\" clip-path=\"url(#p87aeb7f2e4)\" fill=\"none\" stroke=\"#778899\" stroke-linecap=\"square\" stroke-width=\"2\"/><path d=\"m86.557 43.561v126.01\" clip-path=\"url(#p87aeb7f2e4)\" fill=\"none\" stroke=\"#778899\" stroke-linecap=\"square\" stroke-width=\"2\"/><path d=\"m134.96 89.012v80.562\" clip-path=\"url(#p87aeb7f2e4)\" fill=\"none\" stroke=\"#778899\" stroke-linecap=\"square\" stroke-width=\"2\"/><path d=\"m132.01 89.012v80.562\" clip-path=\"url(#p87aeb7f2e4)\" fill=\"none\" stroke=\"#778899\" stroke-linecap=\"square\" stroke-width=\"2\"/><path d=\"m180.41 134.46v35.111\" clip-path=\"url(#p87aeb7f2e4)\" fill=\"none\" stroke=\"#778899\" stroke-linecap=\"square\" stroke-width=\"2\"/><path d=\"m177.46 134.46v35.111\" clip-path=\"url(#p87aeb7f2e4)\" fill=\"none\" stroke=\"#778899\" stroke-linecap=\"square\" stroke-width=\"2\"/><path d=\"m73.263 58.332h29.543v-29.543h-29.543z\" clip-path=\"url(#p87aeb7f2e4)\" fill=\"#121619\" stroke=\"#121619\" stroke-width=\"1.5\"/><path d=\"m98.374 47.992c0-2.7413-1.0901-5.3732-3.0285-7.3116-1.9384-1.9384-4.5702-3.0285-7.3116-3.0285s-5.3732 1.0901-7.3116 3.0285c-1.9384 1.9384-3.0285 4.5702-3.0285 7.3116\" clip-path=\"url(#p87aeb7f2e4)\" fill=\"none\" stroke=\"#ffffff\" stroke-width=\"2\"/><path d=\"m118.71 103.78h29.543v-29.543h-29.543z\" clip-path=\"url(#p87aeb7f2e4)\" fill=\"#121619\" stroke=\"#121619\" stroke-width=\"1.5\"/><path d=\"m143.83 93.443c0-2.7413-1.0901-5.3732-3.0285-7.3116s-4.5702-3.0285-7.3116-3.0285c-2.7413 0-5.3732 1.0901-7.3116 3.0285s-3.0285 4.5702-3.0285 7.3116\" clip-path=\"url(#p87aeb7f2e4)\" fill=\"none\" stroke=\"#ffffff\" stroke-width=\"2\"/><path d=\"m164.16 149.23h29.543v-29.543h-29.543z\" clip-path=\"url(#p87aeb7f2e4)\" fill=\"#121619\" stroke=\"#121619\" stroke-width=\"1.5\"/><path d=\"m189.28 138.89c0-2.7413-1.0901-5.3732-3.0285-7.3116-1.9384-1.9384-4.5702-3.0285-7.3116-3.0285s-5.3732 1.0901-7.3116 3.0285c-1.9384 1.9384-3.0285 4.5702-3.0285 7.3116\" clip-path=\"url(#p87aeb7f2e4)\" fill=\"none\" stroke=\"#ffffff\" stroke-width=\"2\"/><path d=\"m88.034 47.992 10.34-10.34\" clip-path=\"url(#p87aeb7f2e4)\" fill=\"none\" stroke=\"#ffffff\" stroke-linecap=\"square\" stroke-width=\"2\"/><path d=\"m133.49 93.443 10.34-10.34\" clip-path=\"url(#p87aeb7f2e4)\" fill=\"none\" stroke=\"#ffffff\" stroke-linecap=\"square\" stroke-width=\"2\"/><path d=\"m178.94 138.89 10.34-10.34\" clip-path=\"url(#p87aeb7f2e4)\" fill=\"none\" stroke=\"#ffffff\" stroke-linecap=\"square\" stroke-width=\"2\"/><g clip-path=\"url(#p87aeb7f2e4)\"><g transform=\"translate(36.363 48.012) scale(.1625 -.1625)\"><defs><path id=\"DejaVuSans-Oblique-71\" transform=\"scale(.015625)\" d=\"m2669 525q-231-303-546-460-314-156-695-156-531 0-833 358-301 358-301 986 0 506 186 978t533 847q225 244 517 375t614 131q387 0 637-153t363-462l100 525h578l-934-4813h-579l360 1844zm-1778 813q0-463 193-705 194-242 560-242 544 0 928 520t384 1264q0 450-199 689-198 239-569 239-272 0-504-127-231-126-403-370-181-256-286-600-104-343-104-668z\"/><path id=\"DejaVuSans-30\" transform=\"scale(.015625)\" d=\"m2034 4250q-487 0-733-480-245-479-245-1442 0-959 245-1439 246-480 733-480 491 0 736 480 246 480 246 1439 0 963-246 1442-245 480-736 480zm0 500q785 0 1199-621 414-620 414-1801 0-1178-414-1799-414-620-1199-620-784 0-1198 620-414 621-414 1799 0 1181 414 1801 414 621 1198 621z\"/></defs><use xlink:href=\"#DejaVuSans-Oblique-71\"/><use transform=\"translate(63.477 -16.406) scale(.7)\" xlink:href=\"#DejaVuSans-30\"/></g></g><g clip-path=\"url(#p87aeb7f2e4)\"><g transform=\"translate(36.363 93.463) scale(.1625 -.1625)\"><defs><path id=\"DejaVuSans-31\" transform=\"scale(.015625)\" d=\"m794 531h1031v3560l-1122-225v575l1116 225h631v-4135h1031v-531h-2687v531z\"/></defs><use xlink:href=\"#DejaVuSans-Oblique-71\"/><use transform=\"translate(63.477 -16.406) scale(.7)\" xlink:href=\"#DejaVuSans-31\"/></g></g><g clip-path=\"url(#p87aeb7f2e4)\"><g transform=\"translate(36.363 138.91) scale(.1625 -.1625)\"><defs><path id=\"DejaVuSans-32\" transform=\"scale(.015625)\" d=\"m1228 531h2203v-531h-2962v531q359 372 979 998 621 627 780 809 303 340 423 576 121 236 121 464 0 372-261 606-261 235-680 235-297 0-627-103-329-103-704-313v638q381 153 712 231 332 78 607 78 725 0 1156-363 431-362 431-968 0-288-108-546-107-257-392-607-78-91-497-524-418-433-1181-1211z\"/></defs><use xlink:href=\"#DejaVuSans-Oblique-71\"/><use transform=\"translate(63.477 -16.406) scale(.7)\" xlink:href=\"#DejaVuSans-32\"/></g></g><g clip-path=\"url(#p87aeb7f2e4)\"><g transform=\"translate(68.036 173.21) scale(.104 -.104)\"><defs><path id=\"DejaVuSans-33\" transform=\"scale(.015625)\" d=\"m2597 2516q453-97 707-404 255-306 255-756 0-690-475-1069-475-378-1350-378-293 0-604 58t-642 174v609q262-153 574-231 313-78 654-78 593 0 904 234t311 681q0 413-289 645-289 233-804 233h-544v519h569q465 0 712 186t247 536q0 359-255 551-254 193-729 193-260 0-557-57-297-56-653-174v562q360 100 674 150t592 50q719 0 1137-327 419-326 419-882 0-388-222-655t-631-370z\"/></defs><use xlink:href=\"#DejaVuSans-33\"/></g></g><g clip-path=\"url(#p87aeb7f2e4)\"><g transform=\"translate(45.466 184.4) scale(.1625 -.1625)\"><defs><path id=\"DejaVuSans-63\" transform=\"scale(.015625)\" d=\"m3122 3366v-538q-244 135-489 202t-495 67q-560 0-870-355-309-354-309-995t309-996q310-354 870-354 250 0 495 67t489 202v-532q-241-112-499-168-257-57-548-57-791 0-1257 497-465 497-465 1341 0 856 470 1346 471 491 1290 491 265 0 518-55 253-54 491-163z\"/></defs><use xlink:href=\"#DejaVuSans-63\"/></g></g><g clip-path=\"url(#p87aeb7f2e4)\"><g transform=\"translate(99.397 173.21) scale(.104 -.104)\"><use xlink:href=\"#DejaVuSans-30\"/></g></g><g clip-path=\"url(#p87aeb7f2e4)\"><g transform=\"translate(144.85 173.21) scale(.104 -.104)\"><use xlink:href=\"#DejaVuSans-31\"/></g></g><g clip-path=\"url(#p87aeb7f2e4)\"><g transform=\"translate(190.3 173.21) scale(.104 -.104)\"><use xlink:href=\"#DejaVuSans-32\"/></g></g><defs><clipPath id=\"p87aeb7f2e4\"><rect x=\"7.2\" y=\"7.2\" width=\"201.73\" height=\"199.98\"/></clipPath></defs></svg>"
            ],
            "text/plain": [
              "<Figure size 267.197x264.88 with 1 Axes>"
            ]
          },
          "execution_count": 2,
          "metadata": {
          },
          "output_type": "execute_result"
        }
      ],
      "source": [
        "from qiskit import QuantumCircuit\n",
        "qc = QuantumCircuit(3, 3)\n",
        "# measure qubits 0, 1 & 2 to classical bits 0, 1 & 2 respectively\n",
        "qc.measure([0,1,2], [0,1,2])\n",
        "qc.draw()"
      ]
    },
    {
      "cell_type": "markdown",
      "metadata": {
      },
      "source": [
        "Ensuite, voyons quels seraient les résultats de l'exécution de ce circuit. Pour ce faire, nous utiliserons un simulateur quantique, qui est un ordinateur standard calculant ce que ferait un ordinateur quantique idéal. Parce que la simulation d'un ordinateur quantique est considérée comme difficile pour les ordinateurs classiques (les meilleurs algorithmes que nous avons croissent de façon exponentielle avec le nombre de qubits), ces simulations ne sont possibles que pour les circuits avec un petit nombre de qubits (jusqu'à ~ 30 qubits), ou certains types de circuits pour lesquels nous pouvons utiliser quelques astuces pour accélérer la simulation. Les simulateurs sont des outils très utiles pour concevoir des circuits quantiques plus petits.\n",
        "\n",
        "Importons le simulateur de Qiskit (appelé Aer) et créons un nouvel objet simulateur."
      ]
    },
    {
      "cell_type": "code",
      "execution_count": 3,
      "metadata": {
      },
      "outputs": [

      ],
      "source": [
        "from qiskit.providers.aer import AerSimulator\n",
        "sim = AerSimulator()  # make new simulator object"
      ]
    },
    {
      "cell_type": "markdown",
      "metadata": {
      },
      "source": [
        "Pour faire la simulation, nous pouvons utiliser la méthode simulators <code>.run()</code> . Cela renvoie un \"travail\", qui contient des informations sur l'expérience, telles que si l'expérience est en cours ou terminée, sur quel backend nous avons exécuté l'expérience et, ce qui est important pour nous, quels sont les résultats de l'expérience !\n",
        "\n",
        "Pour obtenir les résultats du travail, nous utilisons la méthode des résultats, et la manière la plus populaire de visualiser les résultats est un dictionnaire de \"comptes\"."
      ]
    },
    {
      "cell_type": "code",
      "execution_count": 4,
      "metadata": {
      },
      "outputs": [
        {
          "data": {
            "text/plain": [
              "{'000': 1024}"
            ]
          },
          "execution_count": 4,
          "metadata": {
          },
          "output_type": "execute_result"
        }
      ],
      "source": [
        "job = sim.run(qc)      # run the experiment\n",
        "result = job.result()  # get the results\n",
        "result.get_counts()    # interpret the results as a \"counts\" dictionary"
      ]
    },
    {
      "cell_type": "markdown",
      "metadata": {
      },
      "source": [
        "Les clés du dictionnaire counts sont des chaînes de bits et les valeurs sont le nombre de fois que la chaîne de bits a été mesurée. Les ordinateurs quantiques peuvent avoir des résultats aléatoires, il est donc courant de répéter le circuit plusieurs fois. Ce circuit a été répété 1024 fois, ce qui est le nombre de fois par défaut pour répéter un circuit dans Qiskit. Par convention, les qubits commencent toujours à l'état `0` , et comme nous ne leur faisons rien avant la mesure, les résultats sont toujours `0` .\n",
        "\n",
        "### Encodage d'une entrée\n",
        "\n",
        "Voyons maintenant comment encoder une chaîne binaire différente en tant qu'entrée. Pour cela, nous avons besoin de ce qu'on appelle une porte NON. Il s'agit de l'opération la plus élémentaire que vous puissiez effectuer sur un ordinateur. Il inverse simplement la valeur du bit : 0 devient 1 et 1 devient 0. Pour les qubits, nous utilisons une porte connue sous le nom *de porte X* pour cela.\n",
        "\n",
        "Ci-dessous, nous allons créer un nouveau circuit dédié au travail d'encodage :"
      ]
    },
    {
      "cell_type": "code",
      "execution_count": 5,
      "metadata": {
      },
      "outputs": [
        {
          "data": {
            "image/svg+xml": [
              "<?xml version=\"1.0\" encoding=\"UTF-8\"?><!DOCTYPE svg  PUBLIC '-//W3C//DTD SVG 1.1//EN'  'http://www.w3.org/Graphics/SVG/1.1/DTD/svg11.dtd'><svg width=\"216.13pt\" height=\"214.38pt\" version=\"1.1\" viewBox=\"0 0 216.13 214.38\" xmlns=\"http://www.w3.org/2000/svg\" xmlns:xlink=\"http://www.w3.org/1999/xlink\"><defs><style type=\"text/css\">*{stroke-linecap:butt;stroke-linejoin:round;}</style></defs><path d=\"m0 214.38h216.13v-214.38h-216.13z\" fill=\"#ffffff\"/><path d=\"m82.126 169.57h11.817l-5.9086 8.5221z\" clip-path=\"url(#pcfac3d9fca)\" fill=\"#778899\"/><path d=\"m127.58 169.57h11.817l-5.9086 8.5221z\" clip-path=\"url(#pcfac3d9fca)\" fill=\"#778899\"/><path d=\"m173.03 169.57h11.817l-5.9086 8.5221z\" clip-path=\"url(#pcfac3d9fca)\" fill=\"#778899\"/><path d=\"m63.491 43.561h140.9\" clip-path=\"url(#pcfac3d9fca)\" fill=\"none\" stroke=\"#000000\" stroke-linecap=\"square\" stroke-width=\"2\"/><path d=\"m63.491 89.012h140.9\" clip-path=\"url(#pcfac3d9fca)\" fill=\"none\" stroke=\"#000000\" stroke-linecap=\"square\" stroke-width=\"2\"/><path d=\"m63.491 134.46h140.9\" clip-path=\"url(#pcfac3d9fca)\" fill=\"none\" stroke=\"#000000\" stroke-linecap=\"square\" stroke-width=\"2\"/><path d=\"m63.491 178.44h140.9\" clip-path=\"url(#pcfac3d9fca)\" fill=\"none\" stroke=\"#778899\" stroke-linecap=\"square\" stroke-width=\"2\"/><path d=\"m63.491 181.39h140.9\" clip-path=\"url(#pcfac3d9fca)\" fill=\"none\" stroke=\"#778899\" stroke-linecap=\"square\" stroke-width=\"2\"/><path d=\"m72.581 184.46 4.5451-9.0902\" clip-path=\"url(#pcfac3d9fca)\" fill=\"none\" stroke=\"#778899\" stroke-linecap=\"square\" stroke-width=\"1.5\"/><path d=\"m89.512 134.46v35.111\" clip-path=\"url(#pcfac3d9fca)\" fill=\"none\" stroke=\"#778899\" stroke-linecap=\"square\" stroke-width=\"2\"/><path d=\"m86.557 134.46v35.111\" clip-path=\"url(#pcfac3d9fca)\" fill=\"none\" stroke=\"#778899\" stroke-linecap=\"square\" stroke-width=\"2\"/><path d=\"m134.96 43.561v126.01\" clip-path=\"url(#pcfac3d9fca)\" fill=\"none\" stroke=\"#778899\" stroke-linecap=\"square\" stroke-width=\"2\"/><path d=\"m132.01 43.561v126.01\" clip-path=\"url(#pcfac3d9fca)\" fill=\"none\" stroke=\"#778899\" stroke-linecap=\"square\" stroke-width=\"2\"/><path d=\"m180.41 89.012v80.562\" clip-path=\"url(#pcfac3d9fca)\" fill=\"none\" stroke=\"#778899\" stroke-linecap=\"square\" stroke-width=\"2\"/><path d=\"m177.46 89.012v80.562\" clip-path=\"url(#pcfac3d9fca)\" fill=\"none\" stroke=\"#778899\" stroke-linecap=\"square\" stroke-width=\"2\"/><path d=\"m73.263 58.332h29.543v-29.543h-29.543z\" clip-path=\"url(#pcfac3d9fca)\" fill=\"#005d5d\" stroke=\"#005d5d\" stroke-width=\"1.5\"/><path d=\"m73.263 103.78h29.543v-29.543h-29.543z\" clip-path=\"url(#pcfac3d9fca)\" fill=\"#005d5d\" stroke=\"#005d5d\" stroke-width=\"1.5\"/><path d=\"m73.263 149.23h29.543v-29.543h-29.543z\" clip-path=\"url(#pcfac3d9fca)\" fill=\"#121619\" stroke=\"#121619\" stroke-width=\"1.5\"/><path d=\"m98.374 138.89c0-2.7413-1.0901-5.3732-3.0285-7.3116-1.9384-1.9384-4.5702-3.0285-7.3116-3.0285s-5.3732 1.0901-7.3116 3.0285c-1.9384 1.9384-3.0285 4.5702-3.0285 7.3116\" clip-path=\"url(#pcfac3d9fca)\" fill=\"none\" stroke=\"#ffffff\" stroke-width=\"2\"/><path d=\"m118.71 58.332h29.543v-29.543h-29.543z\" clip-path=\"url(#pcfac3d9fca)\" fill=\"#121619\" stroke=\"#121619\" stroke-width=\"1.5\"/><path d=\"m143.83 47.992c0-2.7413-1.0901-5.3732-3.0285-7.3116-1.9384-1.9384-4.5702-3.0285-7.3116-3.0285-2.7413 0-5.3732 1.0901-7.3116 3.0285-1.9384 1.9384-3.0285 4.5702-3.0285 7.3116\" clip-path=\"url(#pcfac3d9fca)\" fill=\"none\" stroke=\"#ffffff\" stroke-width=\"2\"/><path d=\"m164.16 103.78h29.543v-29.543h-29.543z\" clip-path=\"url(#pcfac3d9fca)\" fill=\"#121619\" stroke=\"#121619\" stroke-width=\"1.5\"/><path d=\"m189.28 93.443c0-2.7413-1.0901-5.3732-3.0285-7.3116-1.9384-1.9384-4.5702-3.0285-7.3116-3.0285s-5.3732 1.0901-7.3116 3.0285c-1.9384 1.9384-3.0285 4.5702-3.0285 7.3116\" clip-path=\"url(#pcfac3d9fca)\" fill=\"none\" stroke=\"#ffffff\" stroke-width=\"2\"/><path d=\"m88.034 138.89 10.34-10.34\" clip-path=\"url(#pcfac3d9fca)\" fill=\"none\" stroke=\"#ffffff\" stroke-linecap=\"square\" stroke-width=\"2\"/><path d=\"m133.49 47.992 10.34-10.34\" clip-path=\"url(#pcfac3d9fca)\" fill=\"none\" stroke=\"#ffffff\" stroke-linecap=\"square\" stroke-width=\"2\"/><path d=\"m178.94 93.443 10.34-10.34\" clip-path=\"url(#pcfac3d9fca)\" fill=\"none\" stroke=\"#ffffff\" stroke-linecap=\"square\" stroke-width=\"2\"/><g clip-path=\"url(#pcfac3d9fca)\"><g transform=\"translate(36.363 48.012) scale(.1625 -.1625)\"><defs><path id=\"DejaVuSans-Oblique-71\" transform=\"scale(.015625)\" d=\"m2669 525q-231-303-546-460-314-156-695-156-531 0-833 358-301 358-301 986 0 506 186 978t533 847q225 244 517 375t614 131q387 0 637-153t363-462l100 525h578l-934-4813h-579l360 1844zm-1778 813q0-463 193-705 194-242 560-242 544 0 928 520t384 1264q0 450-199 689-198 239-569 239-272 0-504-127-231-126-403-370-181-256-286-600-104-343-104-668z\"/><path id=\"DejaVuSans-30\" transform=\"scale(.015625)\" d=\"m2034 4250q-487 0-733-480-245-479-245-1442 0-959 245-1439 246-480 733-480 491 0 736 480 246 480 246 1439 0 963-246 1442-245 480-736 480zm0 500q785 0 1199-621 414-620 414-1801 0-1178-414-1799-414-620-1199-620-784 0-1198 620-414 621-414 1799 0 1181 414 1801 414 621 1198 621z\"/></defs><use xlink:href=\"#DejaVuSans-Oblique-71\"/><use transform=\"translate(63.477 -16.406) scale(.7)\" xlink:href=\"#DejaVuSans-30\"/></g></g><g clip-path=\"url(#pcfac3d9fca)\"><g transform=\"translate(36.363 93.463) scale(.1625 -.1625)\"><defs><path id=\"DejaVuSans-31\" transform=\"scale(.015625)\" d=\"m794 531h1031v3560l-1122-225v575l1116 225h631v-4135h1031v-531h-2687v531z\"/></defs><use xlink:href=\"#DejaVuSans-Oblique-71\"/><use transform=\"translate(63.477 -16.406) scale(.7)\" xlink:href=\"#DejaVuSans-31\"/></g></g><g clip-path=\"url(#pcfac3d9fca)\"><g transform=\"translate(36.363 138.91) scale(.1625 -.1625)\"><defs><path id=\"DejaVuSans-32\" transform=\"scale(.015625)\" d=\"m1228 531h2203v-531h-2962v531q359 372 979 998 621 627 780 809 303 340 423 576 121 236 121 464 0 372-261 606-261 235-680 235-297 0-627-103-329-103-704-313v638q381 153 712 231 332 78 607 78 725 0 1156-363 431-362 431-968 0-288-108-546-107-257-392-607-78-91-497-524-418-433-1181-1211z\"/></defs><use xlink:href=\"#DejaVuSans-Oblique-71\"/><use transform=\"translate(63.477 -16.406) scale(.7)\" xlink:href=\"#DejaVuSans-32\"/></g></g><g clip-path=\"url(#pcfac3d9fca)\"><g transform=\"translate(68.036 173.21) scale(.104 -.104)\"><defs><path id=\"DejaVuSans-33\" transform=\"scale(.015625)\" d=\"m2597 2516q453-97 707-404 255-306 255-756 0-690-475-1069-475-378-1350-378-293 0-604 58t-642 174v609q262-153 574-231 313-78 654-78 593 0 904 234t311 681q0 413-289 645-289 233-804 233h-544v519h569q465 0 712 186t247 536q0 359-255 551-254 193-729 193-260 0-557-57-297-56-653-174v562q360 100 674 150t592 50q719 0 1137-327 419-326 419-882 0-388-222-655t-631-370z\"/></defs><use xlink:href=\"#DejaVuSans-33\"/></g></g><g clip-path=\"url(#pcfac3d9fca)\"><g transform=\"translate(45.466 184.4) scale(.1625 -.1625)\"><defs><path id=\"DejaVuSans-63\" transform=\"scale(.015625)\" d=\"m3122 3366v-538q-244 135-489 202t-495 67q-560 0-870-355-309-354-309-995t309-996q310-354 870-354 250 0 495 67t489 202v-532q-241-112-499-168-257-57-548-57-791 0-1257 497-465 497-465 1341 0 856 470 1346 471 491 1290 491 265 0 518-55 253-54 491-163z\"/></defs><use xlink:href=\"#DejaVuSans-63\"/></g></g><g clip-path=\"url(#pcfac3d9fca)\"><g transform=\"translate(83.582 47.148) scale(.13 -.13)\" fill=\"#ffffff\"><defs><path id=\"DejaVuSans-58\" transform=\"scale(.015625)\" d=\"m403 4666h678l1160-1735 1165 1735h678l-1500-2241 1600-2425h-678l-1312 1984-1322-1984h-681l1665 2491-1453 2175z\"/></defs><use xlink:href=\"#DejaVuSans-58\"/></g></g><g clip-path=\"url(#pcfac3d9fca)\"><g transform=\"translate(83.582 92.599) scale(.13 -.13)\" fill=\"#ffffff\"><use xlink:href=\"#DejaVuSans-58\"/></g></g><g clip-path=\"url(#pcfac3d9fca)\"><g transform=\"translate(99.397 173.21) scale(.104 -.104)\"><use xlink:href=\"#DejaVuSans-32\"/></g></g><g clip-path=\"url(#pcfac3d9fca)\"><g transform=\"translate(144.85 173.21) scale(.104 -.104)\"><use xlink:href=\"#DejaVuSans-30\"/></g></g><g clip-path=\"url(#pcfac3d9fca)\"><g transform=\"translate(190.3 173.21) scale(.104 -.104)\"><use xlink:href=\"#DejaVuSans-31\"/></g></g><defs><clipPath id=\"pcfac3d9fca\"><rect x=\"7.2\" y=\"7.2\" width=\"201.73\" height=\"199.98\"/></clipPath></defs></svg>"
            ],
            "text/plain": [
              "<Figure size 267.197x264.88 with 1 Axes>"
            ]
          },
          "execution_count": 5,
          "metadata": {
          },
          "output_type": "execute_result"
        }
      ],
      "source": [
        "# Create quantum circuit with 3 qubits and 3 classical bits:\n",
        "qc = QuantumCircuit(3, 3)\n",
        "qc.x([0,1])  # Perform X-gates on qubits 0 & 1\n",
        "qc.measure([0,1,2], [0,1,2])\n",
        "qc.draw()    # returns a drawing of the circuit"
      ]
    },
    {
      "cell_type": "markdown",
      "metadata": {
      },
      "source": [
        "Et simulons notre circuit pour voir les résultats :"
      ]
    },
    {
      "cell_type": "code",
      "execution_count": 6,
      "metadata": {
      },
      "outputs": [
        {
          "data": {
            "text/plain": [
              "{'011': 1024}"
            ]
          },
          "execution_count": 6,
          "metadata": {
          },
          "output_type": "execute_result"
        }
      ],
      "source": [
        "job = sim.run(qc)      # run the experiment\n",
        "result = job.result()  # get the results\n",
        "result.get_counts()    # interpret the results as a \"counts\" dictionary"
      ]
    },
    {
      "cell_type": "markdown",
      "metadata": {
      },
      "source": [
        "<!-- ::: q-block.exercise -->\n",
        "\n",
        "### Questionnaire rapide\n",
        "\n",
        "<!-- ::: q-quiz(goal=\"intro-aoc-2\") -->\n",
        "\n",
        "<!-- ::: .question -->\n",
        "\n",
        "Quel est le nombre binaire `011` en décimal ?\n",
        "\n",
        "<!-- ::: -->\n",
        "\n",
        "<!-- ::: .option -->\n",
        "\n",
        "1. 5\n",
        "\n",
        "<!-- ::: -->\n",
        "\n",
        "<!-- ::: .option -->\n",
        "\n",
        "1. 2\n",
        "\n",
        "<!-- ::: -->\n",
        "\n",
        "<!-- ::: .option(correct) -->\n",
        "\n",
        "1. 3\n",
        "\n",
        "<!-- ::: -->\n",
        "\n",
        "<!-- ::: -->\n",
        "\n",
        "Modifiez le code ci-dessus pour créer un circuit quantique qui encode les nombres 6 et 4. Les résultats sont-ils conformes à vos attentes ?\n",
        "\n",
        "<!-- ::: -->\n",
        "\n",
        "Nous savons maintenant comment encoder des informations dans un ordinateur. L'étape suivante consiste à le traiter : prendre une entrée que nous avons encodée et la transformer en une sortie qui nous dit quelque chose de nouveau.\n",
        "\n",
        "## Création d'un circuit additionneur\n",
        "\n",
        "### Se rappeler comment ajouter\n",
        "\n",
        "Pour envisager de transformer les entrées en sorties, nous avons besoin d'un problème à résoudre. Faisons quelques calculs de base. À l'école primaire, vous aurez appris à prendre de gros problèmes mathématiques et à les décomposer en éléments gérables. Par exemple, comment feriez-vous pour résoudre ce problème d'addition ?\n",
        "\n",
        "<!-- ::: q-block -->\n",
        "\n",
        "### Se rappeler comment ajouter\n",
        "\n",
        "<!-- ::: q-carousel -->\n",
        "\n",
        "<!-- ::: div -->\n",
        "\n",
        "![image d'addition](images/aoc/carousel/0/0.svg)\n",
        "\n",
        "Comment pouvons-nous résoudre un problème comme celui-ci? Cliquez sur ce carrousel pour le découvrir.\n",
        "\n",
        "<!-- ::: -->\n",
        "\n",
        "<!-- ::: div -->\n",
        "\n",
        "![image d'addition](images/aoc/carousel/0/1.svg)\n",
        "\n",
        "Une façon est de le faire chiffre par chiffre, de droite à gauche. Nous commençons donc avec 3+4.\n",
        "\n",
        "<!-- ::: -->\n",
        "\n",
        "<!-- ::: div -->\n",
        "\n",
        "![image d'addition](images/aoc/carousel/0/2.svg)\n",
        "\n",
        "Et puis 1+5.\n",
        "\n",
        "<!-- ::: -->\n",
        "\n",
        "<!-- ::: div -->\n",
        "\n",
        "![image d'addition](images/aoc/carousel/0/3.svg)\n",
        "\n",
        "Puis 2+8.\n",
        "\n",
        "<!-- ::: -->\n",
        "\n",
        "<!-- ::: div -->\n",
        "\n",
        "![image d'addition](images/aoc/carousel/0/4.svg)\n",
        "\n",
        "Enfin, nous avons 9 + 1 + 1 et obtenons notre réponse.\n",
        "\n",
        "<!-- ::: -->\n",
        "\n",
        "<!-- ::: -->\n",
        "\n",
        "<!-- ::: -->\n",
        "\n",
        "Ce n'est peut-être qu'un simple ajout, mais cela démontre les principes qui sous-tendent tous les algorithmes. Que l'algorithme soit conçu pour résoudre des problèmes mathématiques ou pour traiter du texte ou des images, nous décomposons toujours les grandes tâches en petites étapes simples.\n",
        "\n",
        "Pour fonctionner sur un ordinateur, les algorithmes doivent être compilés jusqu'aux étapes les plus petites et les plus simples possibles. Pour voir à quoi cela ressemble, reprenons le problème d'addition ci-dessus, mais en binaire.\n",
        "\n",
        "<!-- ::: q-block -->\n",
        "\n",
        "### Additionner des nombres binaires\n",
        "\n",
        "<!-- ::: q-carousel -->\n",
        "\n",
        "<!-- ::: div -->\n",
        "\n",
        "![image d'addition](images/aoc/carousel/1/0.svg)\n",
        "\n",
        "Notez que le deuxième nombre a un tas de 0 supplémentaires sur la gauche. Cela sert juste à donner aux deux cordes la même longueur.\n",
        "\n",
        "<!-- ::: -->\n",
        "\n",
        "<!-- ::: div -->\n",
        "\n",
        "![image d'addition](images/aoc/carousel/1/1.svg)\n",
        "\n",
        "Notre première tâche est de faire le 1+0 pour la colonne de droite. En binaire, comme dans tout système numérique, la réponse est 1.\n",
        "\n",
        "<!-- ::: -->\n",
        "\n",
        "<!-- ::: div -->\n",
        "\n",
        "![image d'addition](images/aoc/carousel/1/2.svg)\n",
        "\n",
        "Nous obtenons le même résultat pour le 0+1 de la deuxième colonne.\n",
        "\n",
        "<!-- ::: -->\n",
        "\n",
        "<!-- ::: div -->\n",
        "\n",
        "![image d'addition](images/aoc/carousel/1/3.svg)\n",
        "\n",
        "Ensuite, nous avons 1 + 1. Comme vous le savez sûrement, 1+1=2. En binaire, le nombre 2 s'écrit 10, et nécessite donc deux bits. Cela signifie que nous devons porter le 1, tout comme nous le ferions pour le nombre 10 en décimal. La colonne suivante nous demande maintenant de calculer 1+1+1. Cela signifie additionner trois nombres ensemble, donc les choses se compliquent pour notre ordinateur.\n",
        "\n",
        "<!-- ::: -->\n",
        "\n",
        "<!-- ::: div -->\n",
        "\n",
        "![image d'addition](images/aoc/carousel/1/4.svg)\n",
        "\n",
        "Mais nous pouvons toujours le compiler en opérations plus simples et le faire d'une manière qui ne nous oblige qu'à ajouter deux bits ensemble. Pour cela, nous pouvons commencer avec seulement les deux premiers 1.\n",
        "\n",
        "<!-- ::: -->\n",
        "\n",
        "<!-- ::: div -->\n",
        "\n",
        "![image d'addition](images/aoc/carousel/1/5.svg)\n",
        "\n",
        "Maintenant, nous devons ajouter ce 10 au 1 final, ce qui peut être fait en utilisant notre méthode habituelle de parcourir les colonnes. La réponse finale est 11 (également connu sous le nom de 3).\n",
        "\n",
        "<!-- ::: -->\n",
        "\n",
        "<!-- ::: div -->\n",
        "\n",
        "![image d'addition](images/aoc/carousel/1/6.svg)\n",
        "\n",
        "Nous pouvons maintenant revenir au reste du problème. Avec la réponse de 11, nous avons un autre bit de retenue. Alors maintenant, nous avons un autre 1 + 1 + 1 à faire. Mais nous savons déjà comment faire cela, donc ce n'est pas grave.\n",
        "\n",
        "<!-- ::: -->\n",
        "\n",
        "<!-- ::: div -->\n",
        "\n",
        "En fait, tout ce qui reste jusqu'à présent est quelque chose que nous savons déjà faire. En effet, si vous décomposez tout en ajoutant seulement deux bits, il n'y a que quatre choses possibles que vous devrez calculer. Voici les quatre sommes de base (nous écrirons toutes les réponses avec deux bits pour être cohérents) :\n",
        "\n",
        "![image d'addition](images/aoc/carousel/1/7.svg)\n",
        "\n",
        "C'est ce qu'on appelle un demi-additionneur. Si notre ordinateur peut implémenter cela, et s'il peut en chaîner plusieurs, il peut ajouter n'importe quoi.\n",
        "\n",
        "<!-- ::: -->\n",
        "\n",
        "<!-- ::: -->\n",
        "\n",
        "<!-- ::: -->\n",
        "\n",
        "### Additionner avec des circuits quantiques\n",
        "\n",
        "Faisons notre propre demi-additionneur à partir d'un circuit quantique. Cela comprendra une partie du circuit qui encode l'entrée, une partie qui exécute l'algorithme et une partie qui extrait le résultat. La première partie devra être changée chaque fois que nous voulons utiliser une nouvelle entrée, mais le reste restera toujours le même.\n",
        "\n",
        "![aperçu de notre circuit additionneur](images/aoc/half-adder.svg)\n",
        "\n",
        "Les deux bits que nous voulons ajouter sont encodés dans les qubits 0 et 1. L'exemple ci-dessus encode un 1 dans ces deux qubits, et il cherche donc à trouver la solution de 1+1. Le résultat sera une chaîne de deux bits, que nous lirons à partir des qubits 2 et 3. Il ne reste plus qu'à remplir le programme réel, qui vit dans l'espace vide au milieu.\n",
        "\n",
        "Les lignes pointillées dans l'image sont juste pour distinguer les différentes parties du circuit (bien qu'elles puissent aussi avoir des utilisations plus intéressantes)\n",
        "\n",
        "Les opérations de base de l'informatique sont connues sous le nom de portes logiques. Nous avons déjà utilisé la porte NOT, mais cela ne suffit pas pour faire notre demi additionneur. Nous ne pouvions l'utiliser que pour écrire manuellement les réponses. Puisque nous voulons que l'ordinateur fasse le calcul à notre place, nous aurons besoin de portes plus puissantes.\n",
        "\n",
        "Pour voir ce dont nous avons besoin, examinons à nouveau ce que notre demi-additionneur doit faire.\n",
        "\n",
        "![opérations requises d'un demi-additionneur](images/aoc/half_adder_reqs.svg)\n",
        "\n",
        "Le bit le plus à droite dans ces quatre réponses est entièrement déterminé par le fait que les deux bits que nous ajoutons sont identiques ou différents. Ainsi, pour 0+0 et 1+1, où les deux bits sont égaux, le bit le plus à droite de la réponse sort 0. Pour 0+1 et 1+0, où nous ajoutons différentes valeurs de bit, le bit le plus à droite est 1.\n",
        "\n",
        "Pour que cette partie de notre solution soit correcte, nous avons besoin de quelque chose qui puisse déterminer si deux bits sont différents ou non. Traditionnellement, dans l'étude du calcul numérique, cela s'appelle une porte XOR.\n",
        "\n",
        "<table>\n",
        "<thead>\n",
        "  <tr>\n",
        "    <th>Entrée 1</th>\n",
        "    <th>Entrée 2</th>\n",
        "    <th>Sortie XOR</th>\n",
        "  </tr>\n",
        "</thead>\n",
        "<tbody>\n",
        "  <tr>\n",
        "    <td>0</td>\n",
        "    <td>0</td>\n",
        "    <td>0</td>\n",
        "  </tr>\n",
        "  <tr>\n",
        "    <td>0</td>\n",
        "    <td>1</td>\n",
        "    <td>1</td>\n",
        "  </tr>\n",
        "  <tr>\n",
        "    <td>1</td>\n",
        "    <td>0</td>\n",
        "    <td>1</td>\n",
        "  </tr>\n",
        "  <tr>\n",
        "    <td>1</td>\n",
        "    <td>1</td>\n",
        "    <td>0</td>\n",
        "  </tr>\n",
        "</tbody>\n",
        "</table>\n",
        "\n",
        "Dans les ordinateurs quantiques, le travail de la porte XOR est effectué par la «porte NON contrôlée». Comme il s'agit d'un nom assez long, nous l'appelons généralement le « CNOT ». Dans les schémas de circuit, il est dessiné comme dans l'image ci-dessous. Ceci est appliqué à une paire de qubits. L'un agit comme le qubit de contrôle (c'est celui avec le petit point). L'autre agit comme le qubit cible (avec le grand cercle et la croix - un peu comme une marque cible).\n",
        "\n",
        "![image de la porte du CNOT](images/aoc/cnot_xor.svg)\n",
        "\n",
        "Dans Qiskit, nous pouvons utiliser la méthode `.cx()` pour ajouter un CNOT à notre circuit. Nous devons donner les indices des deux qubits sur lesquels il agit comme arguments. Voici un exemple :"
      ]
    },
    {
      "cell_type": "code",
      "execution_count": 7,
      "metadata": {
      },
      "outputs": [
        {
          "data": {
            "image/svg+xml": [
              "<?xml version=\"1.0\" encoding=\"UTF-8\"?><!DOCTYPE svg  PUBLIC '-//W3C//DTD SVG 1.1//EN'  'http://www.w3.org/Graphics/SVG/1.1/DTD/svg11.dtd'><svg width=\"261.48pt\" height=\"168.93pt\" version=\"1.1\" viewBox=\"0 0 261.48 168.93\" xmlns=\"http://www.w3.org/2000/svg\" xmlns:xlink=\"http://www.w3.org/1999/xlink\"><defs><style type=\"text/css\">*{stroke-linecap:butt;stroke-linejoin:round;}</style></defs><path d=\"m0 168.93h261.48v-168.93h-261.48z\" fill=\"#ffffff\"/><path d=\"m172.92 124.12h11.817l-5.9086 8.5221z\" clip-path=\"url(#p1477cbf34c)\" fill=\"#778899\"/><path d=\"m218.37 124.12h11.817l-5.9086 8.5221z\" clip-path=\"url(#p1477cbf34c)\" fill=\"#778899\"/><path d=\"m63.381 43.561h186.35\" clip-path=\"url(#p1477cbf34c)\" fill=\"none\" stroke=\"#000000\" stroke-linecap=\"square\" stroke-width=\"2\"/><path d=\"m63.381 89.012h186.35\" clip-path=\"url(#p1477cbf34c)\" fill=\"none\" stroke=\"#000000\" stroke-linecap=\"square\" stroke-width=\"2\"/><path d=\"m63.381 132.99h186.35\" clip-path=\"url(#p1477cbf34c)\" fill=\"none\" stroke=\"#778899\" stroke-linecap=\"square\" stroke-width=\"2\"/><path d=\"m63.381 135.94h186.35\" clip-path=\"url(#p1477cbf34c)\" fill=\"none\" stroke=\"#778899\" stroke-linecap=\"square\" stroke-width=\"2\"/><path d=\"m72.471 139.01 4.5451-9.0902\" clip-path=\"url(#p1477cbf34c)\" fill=\"none\" stroke=\"#778899\" stroke-linecap=\"square\" stroke-width=\"1.5\"/><path d=\"m133.38 89.012v-45.451\" clip-path=\"url(#p1477cbf34c)\" fill=\"none\" stroke=\"#1192e8\" stroke-linecap=\"square\" stroke-width=\"2\"/><path d=\"m180.3 43.561v80.562\" clip-path=\"url(#p1477cbf34c)\" fill=\"none\" stroke=\"#778899\" stroke-linecap=\"square\" stroke-width=\"2\"/><path d=\"m177.35 43.561v80.562\" clip-path=\"url(#p1477cbf34c)\" fill=\"none\" stroke=\"#778899\" stroke-linecap=\"square\" stroke-width=\"2\"/><path d=\"m225.75 89.012v35.111\" clip-path=\"url(#p1477cbf34c)\" fill=\"none\" stroke=\"#778899\" stroke-linecap=\"square\" stroke-width=\"2\"/><path d=\"m222.8 89.012v35.111\" clip-path=\"url(#p1477cbf34c)\" fill=\"none\" stroke=\"#778899\" stroke-linecap=\"square\" stroke-width=\"2\"/><path d=\"m73.153 58.332h29.543v-29.543h-29.543z\" clip-path=\"url(#p1477cbf34c)\" fill=\"#005d5d\" stroke=\"#005d5d\" stroke-width=\"1.5\"/><path d=\"m133.38 47.992c1.1752 0 2.3025-0.46693 3.1335-1.2979 0.83102-0.83102 1.2979-1.9583 1.2979-3.1335 0-1.1752-0.46693-2.3025-1.2979-3.1335-0.83102-0.83102-1.9583-1.2979-3.1335-1.2979-1.1752 0-2.3025 0.46693-3.1335 1.2979-0.83102 0.83102-1.2979 1.9583-1.2979 3.1335 0 1.1752 0.46693 2.3025 1.2979 3.1335 0.83102 0.83102 1.9583 1.2979 3.1335 1.2979z\" clip-path=\"url(#p1477cbf34c)\" fill=\"#1192e8\" stroke=\"#1192e8\" stroke-width=\"1.5\"/><path d=\"m133.38 99.352c2.7422 0 5.3725-1.0895 7.3116-3.0285 1.939-1.939 3.0285-4.5693 3.0285-7.3116s-1.0895-5.3725-3.0285-7.3116c-1.939-1.939-4.5693-3.0285-7.3116-3.0285-2.7422 0-5.3725 1.0895-7.3116 3.0285-1.939 1.939-3.0285 4.5693-3.0285 7.3116s1.0895 5.3725 3.0285 7.3116c1.939 1.939 4.5693 3.0285 7.3116 3.0285z\" clip-path=\"url(#p1477cbf34c)\" fill=\"#1192e8\" stroke=\"#1192e8\" stroke-width=\"2\"/><path d=\"m164.06 58.332h29.543v-29.543h-29.543z\" clip-path=\"url(#p1477cbf34c)\" fill=\"#121619\" stroke=\"#121619\" stroke-width=\"1.5\"/><path d=\"m189.17 47.992c0-2.7413-1.0901-5.3732-3.0285-7.3116-1.9384-1.9384-4.5702-3.0285-7.3116-3.0285s-5.3732 1.0901-7.3116 3.0285c-1.9384 1.9384-3.0285 4.5702-3.0285 7.3116\" clip-path=\"url(#p1477cbf34c)\" fill=\"none\" stroke=\"#ffffff\" stroke-width=\"2\"/><path d=\"m209.51 103.78h29.543v-29.543h-29.543z\" clip-path=\"url(#p1477cbf34c)\" fill=\"#121619\" stroke=\"#121619\" stroke-width=\"1.5\"/><path d=\"m234.62 93.443c0-2.7413-1.0901-5.3732-3.0285-7.3116-1.9384-1.9384-4.5702-3.0285-7.3116-3.0285s-5.3732 1.0901-7.3116 3.0285c-1.9384 1.9384-3.0285 4.5702-3.0285 7.3116\" clip-path=\"url(#p1477cbf34c)\" fill=\"none\" stroke=\"#ffffff\" stroke-width=\"2\"/><path d=\"m178.83 47.992 10.34-10.34\" clip-path=\"url(#p1477cbf34c)\" fill=\"none\" stroke=\"#ffffff\" stroke-linecap=\"square\" stroke-width=\"2\"/><path d=\"m224.28 93.443 10.34-10.34\" clip-path=\"url(#p1477cbf34c)\" fill=\"none\" stroke=\"#ffffff\" stroke-linecap=\"square\" stroke-width=\"2\"/><path d=\"m133.38 94.92v-11.817\" clip-path=\"url(#p1477cbf34c)\" fill=\"none\" stroke=\"#ffffff\" stroke-linecap=\"square\" stroke-width=\"2\"/><path d=\"m127.47 89.012h11.817\" clip-path=\"url(#p1477cbf34c)\" fill=\"none\" stroke=\"#ffffff\" stroke-linecap=\"square\" stroke-width=\"2\"/><g clip-path=\"url(#p1477cbf34c)\"><g transform=\"translate(36.253 48.012) scale(.1625 -.1625)\"><defs><path id=\"DejaVuSans-Oblique-71\" transform=\"scale(.015625)\" d=\"m2669 525q-231-303-546-460-314-156-695-156-531 0-833 358-301 358-301 986 0 506 186 978t533 847q225 244 517 375t614 131q387 0 637-153t363-462l100 525h578l-934-4813h-579l360 1844zm-1778 813q0-463 193-705 194-242 560-242 544 0 928 520t384 1264q0 450-199 689-198 239-569 239-272 0-504-127-231-126-403-370-181-256-286-600-104-343-104-668z\"/><path id=\"DejaVuSans-30\" transform=\"scale(.015625)\" d=\"m2034 4250q-487 0-733-480-245-479-245-1442 0-959 245-1439 246-480 733-480 491 0 736 480 246 480 246 1439 0 963-246 1442-245 480-736 480zm0 500q785 0 1199-621 414-620 414-1801 0-1178-414-1799-414-620-1199-620-784 0-1198 620-414 621-414 1799 0 1181 414 1801 414 621 1198 621z\"/></defs><use xlink:href=\"#DejaVuSans-Oblique-71\"/><use transform=\"translate(63.477 -16.406) scale(.7)\" xlink:href=\"#DejaVuSans-30\"/></g></g><g clip-path=\"url(#p1477cbf34c)\"><g transform=\"translate(36.253 93.463) scale(.1625 -.1625)\"><defs><path id=\"DejaVuSans-31\" transform=\"scale(.015625)\" d=\"m794 531h1031v3560l-1122-225v575l1116 225h631v-4135h1031v-531h-2687v531z\"/></defs><use xlink:href=\"#DejaVuSans-Oblique-71\"/><use transform=\"translate(63.477 -16.406) scale(.7)\" xlink:href=\"#DejaVuSans-31\"/></g></g><g clip-path=\"url(#p1477cbf34c)\"><g transform=\"translate(67.926 127.75) scale(.104 -.104)\"><defs><path id=\"DejaVuSans-32\" transform=\"scale(.015625)\" d=\"m1228 531h2203v-531h-2962v531q359 372 979 998 621 627 780 809 303 340 423 576 121 236 121 464 0 372-261 606-261 235-680 235-297 0-627-103-329-103-704-313v638q381 153 712 231 332 78 607 78 725 0 1156-363 431-362 431-968 0-288-108-546-107-257-392-607-78-91-497-524-418-433-1181-1211z\"/></defs><use xlink:href=\"#DejaVuSans-32\"/></g></g><g clip-path=\"url(#p1477cbf34c)\"><g transform=\"translate(45.356 138.95) scale(.1625 -.1625)\"><defs><path id=\"DejaVuSans-63\" transform=\"scale(.015625)\" d=\"m3122 3366v-538q-244 135-489 202t-495 67q-560 0-870-355-309-354-309-995t309-996q310-354 870-354 250 0 495 67t489 202v-532q-241-112-499-168-257-57-548-57-791 0-1257 497-465 497-465 1341 0 856 470 1346 471 491 1290 491 265 0 518-55 253-54 491-163z\"/></defs><use xlink:href=\"#DejaVuSans-63\"/></g></g><g clip-path=\"url(#p1477cbf34c)\"><g transform=\"translate(83.472 47.148) scale(.13 -.13)\" fill=\"#ffffff\"><defs><path id=\"DejaVuSans-58\" transform=\"scale(.015625)\" d=\"m403 4666h678l1160-1735 1165 1735h678l-1500-2241 1600-2425h-678l-1312 1984-1322-1984h-681l1665 2491-1453 2175z\"/></defs><use xlink:href=\"#DejaVuSans-58\"/></g></g><g clip-path=\"url(#p1477cbf34c)\"><g transform=\"translate(190.19 127.75) scale(.104 -.104)\"><use xlink:href=\"#DejaVuSans-30\"/></g></g><g clip-path=\"url(#p1477cbf34c)\"><g transform=\"translate(235.64 127.75) scale(.104 -.104)\"><use xlink:href=\"#DejaVuSans-31\"/></g></g><defs><clipPath id=\"p1477cbf34c\"><rect x=\"7.2\" y=\"7.2\" width=\"247.08\" height=\"154.53\"/></clipPath></defs></svg>"
            ],
            "text/plain": [
              "<Figure size 327.252x204.68 with 1 Axes>"
            ]
          },
          "metadata": {
          },
          "output_type": "display_data"
        },
        {
          "name": "stdout",
          "output_type": "stream",
          "text": [
            "Result:  {'11': 1024}\n"
          ]
        }
      ],
      "source": [
        "# Create quantum circuit with 2 qubits and 2 classical bits\n",
        "qc = QuantumCircuit(2, 2)\n",
        "qc.x(0)\n",
        "qc.cx(0,1)  # CNOT controlled by qubit 0 and targeting qubit 1\n",
        "qc.measure([0,1], [0,1])\n",
        "display(qc.draw())     # display a drawing of the circuit\n",
        "\n",
        "job = sim.run(qc)      # run the experiment\n",
        "result = job.result()  # get the results\n",
        "# interpret the results as a \"counts\" dictionary\n",
        "print(\"Result: \", result.get_counts())"
      ]
    },
    {
      "cell_type": "markdown",
      "metadata": {
        "gloss": {
          "Toffoli": {
            "text": "This gate is named after the scientist <a href='https://en.wikipedia.org/wiki/Tommaso_Toffoli'>Tommaso Toffoli</a>.",
            "title": "Toffoli gate"
          }
        }
      },
      "source": [
        "Pour notre demi-additionneur, nous ne voulons pas écraser l'une de nos entrées. Au lieu de cela, nous voulons écrire le résultat sur une autre paire de qubits. Pour cela, nous pouvons utiliser deux CNOT et écrire la sortie sur un nouveau qubit dont nous savons qu'il sera à l'état 0 :\n",
        "\n",
        "![schéma de circuit de l'utilisation de deux CNOT pour créer une porte XOR](images/aoc/xor.svg)\n",
        "\n",
        "Nous sommes maintenant à mi-chemin d'un demi-additionneur entièrement fonctionnel. Nous savons comment calculer le bit de sortie le plus à droite, il nous suffit donc de déterminer comment calculer le bit de sortie gauche. Si vous regardez à nouveau les quatre sommes possibles, vous remarquerez qu'il n'y a qu'un seul cas pour lequel c'est 1 au lieu de 0 : 1+1=10. Cela se produit uniquement lorsque les deux bits que nous ajoutons sont 1.\n",
        "\n",
        "![opérations requises d'un demi-additionneur](images/aoc/half_adder_reqs.svg)\n",
        "\n",
        "Pour calculer cette partie de la sortie, nous pourrions simplement demander à notre ordinateur de vérifier si les deux entrées sont 1. Si elles le sont - et seulement si elles le sont - nous devons faire une porte NOT sur le qubit 3. Cela le renversera à la valeur requise de 1 pour ce cas uniquement, nous donnant la sortie dont nous avons besoin.\n",
        "\n",
        "Pour cela, nous avons besoin d'une nouvelle porte : comme un CNOT mais contrôlé sur deux qubits au lieu d'un seul. Cela effectuera un NOT sur le qubit cible uniquement lorsque les deux contrôles sont à l'état 1. Cette nouvelle porte s'appelle la porte [Toffoli](gloss:toffoli) . Pour ceux d'entre vous qui connaissent les portes logiques booléennes, il s'agit essentiellement d'une porte ET.\n",
        "\n",
        "![circuit quantique demi-additionneur](images/aoc/ha_circuit.svg)\n",
        "\n",
        "Dans Qiskit, nous pouvons ajouter ceci à un circuit en utilisant la méthode `.ccx()` . Et là, nous l'avons! Un circuit capable de calculer le fameux problème mathématique de 1+1."
      ]
    },
    {
      "cell_type": "markdown",
      "metadata": {
      },
      "source": [
        "<!-- ::: q-block.exercise -->\n",
        "\n",
        "### Essayez-le\n",
        "\n",
        "Disposez les blocs pour créer le bloc de code qui produirait le circuit demi-additionneur ci-dessus.\n",
        "\n",
        "```\n",
        "q-drag-and-drop-code(goal=\"intro-aoc-3\")\n",
        "    .line from qiskit import QuantumCircuit\n",
        "    .line qc = QuantumCircuit(4, 2)\n",
        "    .line(group=0) qc.cx(0, 2)\n",
        "    .line(group=0) qc.cx(1, 2)\n",
        "    .line(group=0) qc.ccx(0, 1, 3)\n",
        "    .result-info\n",
        "```\n",
        "\n",
        "<!-- ::: -->"
      ]
    },
    {
      "cell_type": "markdown",
      "metadata": {
      },
      "source": [
        "Super! Maintenant que nous avons notre demi-additionneur, la prochaine chose à faire est de vérifier qu'il fonctionne. Pour ce faire, nous allons créer un autre circuit qui code une entrée, applique le demi-additionneur et extrait la sortie. "
      ]
    },
    {
      "cell_type": "code",
      "execution_count": 8,
      "metadata": {
      },
      "outputs": [
        {
          "data": {
            "image/svg+xml": [
              "<?xml version=\"1.0\" encoding=\"UTF-8\"?><!DOCTYPE svg  PUBLIC '-//W3C//DTD SVG 1.1//EN'  'http://www.w3.org/Graphics/SVG/1.1/DTD/svg11.dtd'><svg width=\"352.49pt\" height=\"259.84pt\" version=\"1.1\" viewBox=\"0 0 352.49 259.84\" xmlns=\"http://www.w3.org/2000/svg\" xmlns:xlink=\"http://www.w3.org/1999/xlink\"><defs><style type=\"text/css\">*{stroke-linecap:butt;stroke-linejoin:round;}</style></defs><path d=\"m0 259.84h352.49v-259.84h-352.49z\" fill=\"#ffffff\"/><path d=\"m263.93 215.02h11.817l-5.9086 8.5221z\" clip-path=\"url(#pc0339bf3e5)\" fill=\"#778899\"/><path d=\"m309.38 215.02h11.817l-5.9086 8.5221z\" clip-path=\"url(#pc0339bf3e5)\" fill=\"#778899\"/><path d=\"m63.491 43.561h277.25\" clip-path=\"url(#pc0339bf3e5)\" fill=\"none\" stroke=\"#000000\" stroke-linecap=\"square\" stroke-width=\"2\"/><path d=\"m63.491 89.012h277.25\" clip-path=\"url(#pc0339bf3e5)\" fill=\"none\" stroke=\"#000000\" stroke-linecap=\"square\" stroke-width=\"2\"/><path d=\"m63.491 134.46h277.25\" clip-path=\"url(#pc0339bf3e5)\" fill=\"none\" stroke=\"#000000\" stroke-linecap=\"square\" stroke-width=\"2\"/><path d=\"m63.491 179.91h277.25\" clip-path=\"url(#pc0339bf3e5)\" fill=\"none\" stroke=\"#000000\" stroke-linecap=\"square\" stroke-width=\"2\"/><path d=\"m63.491 223.89h277.25\" clip-path=\"url(#pc0339bf3e5)\" fill=\"none\" stroke=\"#778899\" stroke-linecap=\"square\" stroke-width=\"2\"/><path d=\"m63.491 226.84h277.25\" clip-path=\"url(#pc0339bf3e5)\" fill=\"none\" stroke=\"#778899\" stroke-linecap=\"square\" stroke-width=\"2\"/><path d=\"m72.581 229.91 4.5451-9.0902\" clip-path=\"url(#pc0339bf3e5)\" fill=\"none\" stroke=\"#778899\" stroke-linecap=\"square\" stroke-width=\"1.5\"/><path d=\"m133.49 134.46v-90.902\" clip-path=\"url(#pc0339bf3e5)\" fill=\"none\" stroke=\"#1192e8\" stroke-linecap=\"square\" stroke-width=\"2\"/><path d=\"m178.94 134.46v-45.451\" clip-path=\"url(#pc0339bf3e5)\" fill=\"none\" stroke=\"#1192e8\" stroke-linecap=\"square\" stroke-width=\"2\"/><path d=\"m224.39 179.91v-136.35\" clip-path=\"url(#pc0339bf3e5)\" fill=\"none\" stroke=\"#6929c4\" stroke-linecap=\"square\" stroke-width=\"2\"/><path d=\"m271.32 134.46v80.562\" clip-path=\"url(#pc0339bf3e5)\" fill=\"none\" stroke=\"#778899\" stroke-linecap=\"square\" stroke-width=\"2\"/><path d=\"m268.36 134.46v80.562\" clip-path=\"url(#pc0339bf3e5)\" fill=\"none\" stroke=\"#778899\" stroke-linecap=\"square\" stroke-width=\"2\"/><path d=\"m316.77 179.91v35.111\" clip-path=\"url(#pc0339bf3e5)\" fill=\"none\" stroke=\"#778899\" stroke-linecap=\"square\" stroke-width=\"2\"/><path d=\"m313.81 179.91v35.111\" clip-path=\"url(#pc0339bf3e5)\" fill=\"none\" stroke=\"#778899\" stroke-linecap=\"square\" stroke-width=\"2\"/><path d=\"m73.263 58.332h29.543v-29.543h-29.543z\" clip-path=\"url(#pc0339bf3e5)\" fill=\"#005d5d\" stroke=\"#005d5d\" stroke-width=\"1.5\"/><path d=\"m73.263 103.78h29.543v-29.543h-29.543z\" clip-path=\"url(#pc0339bf3e5)\" fill=\"#005d5d\" stroke=\"#005d5d\" stroke-width=\"1.5\"/><path d=\"m133.49 47.992c1.1752 0 2.3025-0.46693 3.1335-1.2979 0.83102-0.83102 1.2979-1.9583 1.2979-3.1335 0-1.1752-0.46693-2.3025-1.2979-3.1335-0.83102-0.83102-1.9583-1.2979-3.1335-1.2979-1.1752 0-2.3025 0.46693-3.1335 1.2979-0.83102 0.83102-1.2979 1.9583-1.2979 3.1335 0 1.1752 0.46693 2.3025 1.2979 3.1335 0.83102 0.83102 1.9583 1.2979 3.1335 1.2979z\" clip-path=\"url(#pc0339bf3e5)\" fill=\"#1192e8\" stroke=\"#1192e8\" stroke-width=\"1.5\"/><path d=\"m133.49 144.8c2.7422 0 5.3725-1.0895 7.3116-3.0285 1.939-1.939 3.0285-4.5693 3.0285-7.3116 0-2.7422-1.0895-5.3725-3.0285-7.3116-1.939-1.939-4.5693-3.0285-7.3116-3.0285-2.7422 0-5.3725 1.0895-7.3116 3.0285-1.939 1.939-3.0285 4.5693-3.0285 7.3116 0 2.7422 1.0895 5.3725 3.0285 7.3116 1.939 1.939 4.5693 3.0285 7.3116 3.0285z\" clip-path=\"url(#pc0339bf3e5)\" fill=\"#1192e8\" stroke=\"#1192e8\" stroke-width=\"2\"/><path d=\"m178.94 93.443c1.1752 0 2.3025-0.46693 3.1335-1.2979 0.83102-0.83102 1.2979-1.9583 1.2979-3.1335s-0.46693-2.3025-1.2979-3.1335c-0.83102-0.83102-1.9583-1.2979-3.1335-1.2979s-2.3025 0.46693-3.1335 1.2979c-0.83102 0.83102-1.2979 1.9583-1.2979 3.1335s0.46693 2.3025 1.2979 3.1335c0.83102 0.83102 1.9583 1.2979 3.1335 1.2979z\" clip-path=\"url(#pc0339bf3e5)\" fill=\"#1192e8\" stroke=\"#1192e8\" stroke-width=\"1.5\"/><path d=\"m178.94 144.8c2.7422 0 5.3725-1.0895 7.3116-3.0285 1.939-1.939 3.0285-4.5693 3.0285-7.3116 0-2.7422-1.0895-5.3725-3.0285-7.3116-1.939-1.939-4.5693-3.0285-7.3116-3.0285s-5.3725 1.0895-7.3116 3.0285c-1.939 1.939-3.0285 4.5693-3.0285 7.3116 0 2.7422 1.0895 5.3725 3.0285 7.3116 1.939 1.939 4.5693 3.0285 7.3116 3.0285z\" clip-path=\"url(#pc0339bf3e5)\" fill=\"#1192e8\" stroke=\"#1192e8\" stroke-width=\"2\"/><path d=\"m224.39 47.992c1.1752 0 2.3025-0.46693 3.1335-1.2979 0.83102-0.83102 1.2979-1.9583 1.2979-3.1335 0-1.1752-0.46693-2.3025-1.2979-3.1335-0.83102-0.83102-1.9583-1.2979-3.1335-1.2979-1.1752 0-2.3025 0.46693-3.1335 1.2979-0.83102 0.83102-1.2979 1.9583-1.2979 3.1335 0 1.1752 0.46693 2.3025 1.2979 3.1335 0.83102 0.83102 1.9583 1.2979 3.1335 1.2979z\" clip-path=\"url(#pc0339bf3e5)\" fill=\"#6929c4\" stroke=\"#6929c4\" stroke-width=\"1.5\"/><path d=\"m224.39 93.443c1.1752 0 2.3025-0.46693 3.1335-1.2979 0.83102-0.83102 1.2979-1.9583 1.2979-3.1335s-0.46693-2.3025-1.2979-3.1335c-0.83102-0.83102-1.9583-1.2979-3.1335-1.2979-1.1752 0-2.3025 0.46693-3.1335 1.2979-0.83102 0.83102-1.2979 1.9583-1.2979 3.1335s0.46693 2.3025 1.2979 3.1335 1.9583 1.2979 3.1335 1.2979z\" clip-path=\"url(#pc0339bf3e5)\" fill=\"#6929c4\" stroke=\"#6929c4\" stroke-width=\"1.5\"/><path d=\"m224.39 190.25c2.7422 0 5.3725-1.0895 7.3116-3.0285 1.939-1.939 3.0285-4.5693 3.0285-7.3116s-1.0895-5.3725-3.0285-7.3116c-1.939-1.939-4.5693-3.0285-7.3116-3.0285-2.7422 0-5.3725 1.0895-7.3116 3.0285-1.939 1.939-3.0285 4.5693-3.0285 7.3116s1.0895 5.3725 3.0285 7.3116c1.939 1.939 4.5693 3.0285 7.3116 3.0285z\" clip-path=\"url(#pc0339bf3e5)\" fill=\"#6929c4\" stroke=\"#6929c4\" stroke-width=\"2\"/><path d=\"m255.07 149.23h29.543v-29.543h-29.543z\" clip-path=\"url(#pc0339bf3e5)\" fill=\"#121619\" stroke=\"#121619\" stroke-width=\"1.5\"/><path d=\"m280.18 138.89c0-2.7413-1.0901-5.3732-3.0285-7.3116-1.9384-1.9384-4.5702-3.0285-7.3116-3.0285s-5.3732 1.0901-7.3116 3.0285c-1.9384 1.9384-3.0285 4.5702-3.0285 7.3116\" clip-path=\"url(#pc0339bf3e5)\" fill=\"none\" stroke=\"#ffffff\" stroke-width=\"2\"/><path d=\"m300.52 194.69h29.543v-29.543h-29.543z\" clip-path=\"url(#pc0339bf3e5)\" fill=\"#121619\" stroke=\"#121619\" stroke-width=\"1.5\"/><path d=\"m325.63 184.35c0-2.7413-1.0901-5.3732-3.0285-7.3116-1.9384-1.9384-4.5702-3.0285-7.3116-3.0285s-5.3732 1.0901-7.3116 3.0285c-1.9384 1.9384-3.0285 4.5702-3.0285 7.3116\" clip-path=\"url(#pc0339bf3e5)\" fill=\"none\" stroke=\"#ffffff\" stroke-width=\"2\"/><path d=\"m269.84 138.89 10.34-10.34\" clip-path=\"url(#pc0339bf3e5)\" fill=\"none\" stroke=\"#ffffff\" stroke-linecap=\"square\" stroke-width=\"2\"/><path d=\"m315.29 184.35 10.34-10.34\" clip-path=\"url(#pc0339bf3e5)\" fill=\"none\" stroke=\"#ffffff\" stroke-linecap=\"square\" stroke-width=\"2\"/><path d=\"m133.49 140.37v-11.817\" clip-path=\"url(#pc0339bf3e5)\" fill=\"none\" stroke=\"#ffffff\" stroke-linecap=\"square\" stroke-width=\"2\"/><path d=\"m127.58 134.46h11.817\" clip-path=\"url(#pc0339bf3e5)\" fill=\"none\" stroke=\"#ffffff\" stroke-linecap=\"square\" stroke-width=\"2\"/><path d=\"m178.94 140.37v-11.817\" clip-path=\"url(#pc0339bf3e5)\" fill=\"none\" stroke=\"#ffffff\" stroke-linecap=\"square\" stroke-width=\"2\"/><path d=\"m173.03 134.46h11.817\" clip-path=\"url(#pc0339bf3e5)\" fill=\"none\" stroke=\"#ffffff\" stroke-linecap=\"square\" stroke-width=\"2\"/><path d=\"m224.39 185.82v-11.817\" clip-path=\"url(#pc0339bf3e5)\" fill=\"none\" stroke=\"#ffffff\" stroke-linecap=\"square\" stroke-width=\"2\"/><path d=\"m218.48 179.91h11.817\" clip-path=\"url(#pc0339bf3e5)\" fill=\"none\" stroke=\"#ffffff\" stroke-linecap=\"square\" stroke-width=\"2\"/><g clip-path=\"url(#pc0339bf3e5)\"><g transform=\"translate(36.363 48.012) scale(.1625 -.1625)\"><defs><path id=\"DejaVuSans-Oblique-71\" transform=\"scale(.015625)\" d=\"m2669 525q-231-303-546-460-314-156-695-156-531 0-833 358-301 358-301 986 0 506 186 978t533 847q225 244 517 375t614 131q387 0 637-153t363-462l100 525h578l-934-4813h-579l360 1844zm-1778 813q0-463 193-705 194-242 560-242 544 0 928 520t384 1264q0 450-199 689-198 239-569 239-272 0-504-127-231-126-403-370-181-256-286-600-104-343-104-668z\"/><path id=\"DejaVuSans-30\" transform=\"scale(.015625)\" d=\"m2034 4250q-487 0-733-480-245-479-245-1442 0-959 245-1439 246-480 733-480 491 0 736 480 246 480 246 1439 0 963-246 1442-245 480-736 480zm0 500q785 0 1199-621 414-620 414-1801 0-1178-414-1799-414-620-1199-620-784 0-1198 620-414 621-414 1799 0 1181 414 1801 414 621 1198 621z\"/></defs><use xlink:href=\"#DejaVuSans-Oblique-71\"/><use transform=\"translate(63.477 -16.406) scale(.7)\" xlink:href=\"#DejaVuSans-30\"/></g></g><g clip-path=\"url(#pc0339bf3e5)\"><g transform=\"translate(36.363 93.463) scale(.1625 -.1625)\"><defs><path id=\"DejaVuSans-31\" transform=\"scale(.015625)\" d=\"m794 531h1031v3560l-1122-225v575l1116 225h631v-4135h1031v-531h-2687v531z\"/></defs><use xlink:href=\"#DejaVuSans-Oblique-71\"/><use transform=\"translate(63.477 -16.406) scale(.7)\" xlink:href=\"#DejaVuSans-31\"/></g></g><g clip-path=\"url(#pc0339bf3e5)\"><g transform=\"translate(36.363 138.91) scale(.1625 -.1625)\"><defs><path id=\"DejaVuSans-32\" transform=\"scale(.015625)\" d=\"m1228 531h2203v-531h-2962v531q359 372 979 998 621 627 780 809 303 340 423 576 121 236 121 464 0 372-261 606-261 235-680 235-297 0-627-103-329-103-704-313v638q381 153 712 231 332 78 607 78 725 0 1156-363 431-362 431-968 0-288-108-546-107-257-392-607-78-91-497-524-418-433-1181-1211z\"/></defs><use xlink:href=\"#DejaVuSans-Oblique-71\"/><use transform=\"translate(63.477 -16.406) scale(.7)\" xlink:href=\"#DejaVuSans-32\"/></g></g><g clip-path=\"url(#pc0339bf3e5)\"><g transform=\"translate(36.363 184.36) scale(.1625 -.1625)\"><defs><path id=\"DejaVuSans-33\" transform=\"scale(.015625)\" d=\"m2597 2516q453-97 707-404 255-306 255-756 0-690-475-1069-475-378-1350-378-293 0-604 58t-642 174v609q262-153 574-231 313-78 654-78 593 0 904 234t311 681q0 413-289 645-289 233-804 233h-544v519h569q465 0 712 186t247 536q0 359-255 551-254 193-729 193-260 0-557-57-297-56-653-174v562q360 100 674 150t592 50q719 0 1137-327 419-326 419-882 0-388-222-655t-631-370z\"/></defs><use xlink:href=\"#DejaVuSans-Oblique-71\"/><use transform=\"translate(63.477 -16.406) scale(.7)\" xlink:href=\"#DejaVuSans-33\"/></g></g><g clip-path=\"url(#pc0339bf3e5)\"><g transform=\"translate(68.036 218.66) scale(.104 -.104)\"><use xlink:href=\"#DejaVuSans-32\"/></g></g><g clip-path=\"url(#pc0339bf3e5)\"><g transform=\"translate(45.466 229.85) scale(.1625 -.1625)\"><defs><path id=\"DejaVuSans-63\" transform=\"scale(.015625)\" d=\"m3122 3366v-538q-244 135-489 202t-495 67q-560 0-870-355-309-354-309-995t309-996q310-354 870-354 250 0 495 67t489 202v-532q-241-112-499-168-257-57-548-57-791 0-1257 497-465 497-465 1341 0 856 470 1346 471 491 1290 491 265 0 518-55 253-54 491-163z\"/></defs><use xlink:href=\"#DejaVuSans-63\"/></g></g><g clip-path=\"url(#pc0339bf3e5)\"><g transform=\"translate(83.582 47.148) scale(.13 -.13)\" fill=\"#ffffff\"><defs><path id=\"DejaVuSans-58\" transform=\"scale(.015625)\" d=\"m403 4666h678l1160-1735 1165 1735h678l-1500-2241 1600-2425h-678l-1312 1984-1322-1984h-681l1665 2491-1453 2175z\"/></defs><use xlink:href=\"#DejaVuSans-58\"/></g></g><g clip-path=\"url(#pc0339bf3e5)\"><g transform=\"translate(83.582 92.599) scale(.13 -.13)\" fill=\"#ffffff\"><use xlink:href=\"#DejaVuSans-58\"/></g></g><g clip-path=\"url(#pc0339bf3e5)\"><g transform=\"translate(281.2 218.66) scale(.104 -.104)\"><use xlink:href=\"#DejaVuSans-30\"/></g></g><g clip-path=\"url(#pc0339bf3e5)\"><g transform=\"translate(326.65 218.66) scale(.104 -.104)\"><use xlink:href=\"#DejaVuSans-31\"/></g></g><defs><clipPath id=\"pc0339bf3e5\"><rect x=\"7.2\" y=\"7.2\" width=\"338.09\" height=\"245.44\"/></clipPath></defs></svg>"
            ],
            "text/plain": [
              "<Figure size 447.797x325.08 with 1 Axes>"
            ]
          },
          "execution_count": 8,
          "metadata": {
          },
          "output_type": "execute_result"
        }
      ],
      "source": [
        "test_qc = QuantumCircuit(4, 2)\n",
        "\n",
        "# First, our circuit should encode an input (here '11')\n",
        "test_qc.x(0)\n",
        "test_qc.x(1)\n",
        "\n",
        "# Next, it should carry out the adder circuit we created\n",
        "test_qc.cx(0,2)\n",
        "test_qc.cx(1,2)\n",
        "test_qc.ccx(0,1,3)\n",
        "\n",
        "# Finally, we will measure the bottom two qubits to extract the output\n",
        "test_qc.measure(2,0)\n",
        "test_qc.measure(3,1)\n",
        "test_qc.draw()"
      ]
    },
    {
      "cell_type": "code",
      "execution_count": 9,
      "metadata": {
      },
      "outputs": [
        {
          "data": {
            "text/plain": [
              "{'10': 1024}"
            ]
          },
          "execution_count": 9,
          "metadata": {
          },
          "output_type": "execute_result"
        }
      ],
      "source": [
        "job = sim.run(test_qc)  # run the experiment\n",
        "result = job.result()   # get the results\n",
        "result.get_counts()     # interpret the results as a “counts” dictionary"
      ]
    },
    {
      "cell_type": "markdown",
      "metadata": {
      },
      "source": [
        "Ici, nous pouvons voir que le résultat '10' a été mesuré 1024 fois, et nous n'avons mesuré aucun autre résultat.\n",
        "\n",
        "<!-- ::: q-block.exercise -->\n",
        "\n",
        "### Exercer\n",
        "\n",
        "Vérifiez que le circuit du demi-additionneur fonctionne pour les quatre entrées possibles.\n",
        "\n",
        "[Essayez dans IBM Quantum Lab](https://quantum-computing.ibm.com/lab)\n",
        "\n",
        "<!-- ::: -->\n",
        "\n",
        "Le demi-additionneur contient tout ce dont vous avez besoin pour l'addition. Avec les portes NOT, CNOT et Toffoli, nous pouvons créer des programmes qui ajoutent n'importe quel ensemble de nombres de n'importe quelle taille.\n",
        "\n",
        "Ces trois portes suffisent également pour faire tout le reste en informatique. En fait, on peut même se passer du CNOT. De plus, la porte NOT n'est réellement nécessaire que pour créer des bits de valeur 1. La porte de Toffoli est essentiellement l'atome des mathématiques. C'est l'élément le plus simple, à partir duquel toutes les autres techniques de résolution de problèmes peuvent être compilées."
      ]
    }
  ],
  "metadata": {
    "kernelspec": {
      "display_name": "Python 3",
      "language": "python",
      "name": "python3"
    },
    "language_info": {
      "codemirror_mode": {
        "name": "ipython",
        "version": 3
      },
      "file_extension": ".py",
      "mimetype": "text/x-python",
      "name": "python",
      "nbconvert_exporter": "python",
      "pygments_lexer": "ipython3",
      "version": "3.9"
    }
  },
  "nbformat": 4,
  "nbformat_minor": 4
}
