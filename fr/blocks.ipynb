{
  "cells": [
    {
      "cell_type": "markdown",
      "metadata": {
      },
      "source": [
        "# Blocs"
      ]
    },
    {
      "cell_type": "markdown",
      "metadata": {
      },
      "source": [
        "## Bloquer\n",
        "\n",
        "<!-- ::: q-block -->\n",
        "\n",
        "### Titre du bloch\n",
        "\n",
        "Lorem ipsum dolor sit amet, consectetur adipiscing elit. Sed egestas erat tellus, ac molestie eros convallis vitae. Ut ac enim vitae diam efficitur dignissim.\n",
        "\n",
        "Nullam pharetra imperdiet tellus, ac tristique turpis facilisis sed.\n",
        "\n",
        "<!-- ::: -->\n"
      ]
    },
    {
      "cell_type": "markdown",
      "metadata": {
      },
      "source": [
        " \n",
        "\n",
        "## Panneau d'exercice\n",
        "\n",
        "<!-- ::: q-block.exercise -->\n",
        "\n",
        "### Titre de l'exercice\n",
        "\n",
        "Lorem ipsum dolor sit amet, consectetur adipiscing elit. Duis consectetur rhoncus felis, un aliquam arcu finibus eget.\n",
        "\n",
        "In bibendum nibh ut dolor ultrices sagittis. Sed imperdiet, tellus vitae mattis convallis, arcu eros suscipit justo, a consequat enim lectus vel lacus.\n",
        "\n",
        "<!-- ::: -->\n"
      ]
    },
    {
      "cell_type": "markdown",
      "metadata": {
      },
      "source": [
        " \n",
        "\n",
        "## Rappel\n",
        "\n",
        "<!-- ::: q-block.reminder -->\n",
        "\n",
        "### Titre du rappel\n",
        "\n",
        "\n",
        "<summary>Détail un</summary> Lorem ipsum dolor sit amet, consectetur adipiscing elit. Aenean blandit pharetra sem ut varius.\n",
        "\n",
        "```\n",
        "Proin non sem ipsum. Duis blandit est non tellus porta tincidunt. Sed nec neque sagittis, tristique dui a, tempus dolor.\n",
        "```\n",
        "\n",
        "\n",
        "\n",
        "\n",
        "\n",
        "<summary>Détail deux</summary> Lorem ipsum dolor sit amet, consectetur adipiscing elit. Donec lacinia in tortor non iaculis. Suspendisse hendrerit nisl vitae nisi fermentum, quis efficitur turpis tempus.\n",
        "\n",
        "```\n",
        "Etiam blandit blandit ex a hendrerit. Suspendisse ornare, nulla sed auctor commodo, enim tortor vehicula erat, at consectetur elit eros nec felis.\n",
        "```\n",
        "\n",
        "\n",
        "\n",
        "\n",
        "<!-- ::: -->\n"
      ]
    },
    {
      "cell_type": "markdown",
      "metadata": {
      },
      "source": [
        " \n",
        "\n",
        "## Onglets\n",
        "\n",
        "<!-- ::: q-block.tabs -->\n",
        "\n",
        "### Titre des onglets\n",
        "\n",
        "<!-- ::: tab -->\n",
        "\n",
        "### Onglet un\n",
        "\n",
        "Lorem ipsum dolor sit amet, consectetur adipiscing elit. Donec commodo nunc eu faucibus dictum.\n",
        "\n",
        "Etiam dignissim dignissim tortor, ut tincidunt ante ullamcorper id. Morbi ante nisi, pretium at ultrices in, lacinia vitae lorem. Ut ac leo ante.\n",
        "\n",
        "<!-- ::: tab -->\n",
        "\n",
        "### Onglet deux\n",
        "\n",
        "Lorem ipsum dolor sit amet, consectetur adipiscing elit. Phasellus varius velit velit, sed malesuada ligula ullamcorper quis. Nam volutpat ante vel justo egestas, vitae dictum lectus cursus. Suspendisse ac urna justo. Orci varius natoque penatibus et magnis dis parturient montes, nascetur ridiculus mus.\n",
        "\n",
        "<!-- ::: -->\n",
        "\n",
        "<!-- ::: -->\n"
      ]
    },
    {
      "cell_type": "markdown",
      "metadata": {
      },
      "source": [
        " \n",
        "\n",
        "## Bloc de code\n"
      ]
    },
    {
      "cell_type": "code",
      "execution_count": 1,
      "metadata": {
      },
      "outputs": [
        {
          "data": {
            "text/plain": [
              "2"
            ]
          },
          "execution_count": 1,
          "metadata": {
          },
          "output_type": "execute_result"
        }
      ],
      "source": [
        "1 + 1"
      ]
    }
  ],
  "metadata": {
    "kernelspec": {
      "display_name": "Python 3",
      "language": "python",
      "name": "python3"
    },
    "language_info": {
      "codemirror_mode": {
        "name": "ipython",
        "version": 3
      },
      "file_extension": ".py",
      "mimetype": "text/x-python",
      "name": "python",
      "nbconvert_exporter": "python",
      "pygments_lexer": "ipython3",
      "version": "3.7.7"
    }
  },
  "nbformat": 4,
  "nbformat_minor": 4
}
